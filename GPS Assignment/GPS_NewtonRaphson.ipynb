{
 "cells": [
  {
   "cell_type": "markdown",
   "metadata": {},
   "source": [
    "## Satellite Navigation Assignment\n",
    "\n",
    "**Name:** Stefan Manek"
   ]
  },
  {
   "cell_type": "markdown",
   "metadata": {},
   "source": [
    "The goal of this assignment was to establish the position and clock offset of a GPS receiver when given the positions of 4 satellites, as well as the times of flight of the signals to the receiver. Converting the positions to Cartesian coordinates, there are four unknowns: $(x,y,z,b)$ where $b$ is the receiver clock offset.\n",
    "\n",
    "Using the equations: \n",
    "\n",
    "$f_k(x,y,z,b) = (x-x_k)^2 + (y-y_k)^2 + (z-z_k)^2 - (d_k-b)^2 = 0$\n",
    "\n",
    "where $k$ denotes the satellite number (1-4) and $d_k$ is the distance from the $k^{th}$ satellite to the receiver, equivalent to the time of flight times the speed of light c, we may use Newton's method to iterate and solve for the receiver position."
   ]
  },
  {
   "cell_type": "code",
   "execution_count": 1,
   "metadata": {},
   "outputs": [],
   "source": [
    "#Importing libraries\n",
    "import numpy as np"
   ]
  },
  {
   "cell_type": "markdown",
   "metadata": {},
   "source": [
    "Firstly, the parameters required to implement Newton's method were defined. The satellite positions in Geocentric spherical coordinates were saved as a text file when running the Receiver programme, and are read into Python from file. They are displayed in the cell below. The speed of light is defined in km/s, and a constant altitude for each satellite was assumed to be 20200km and used to define each satellite radius."
   ]
  },
  {
   "cell_type": "code",
   "execution_count": 2,
   "metadata": {},
   "outputs": [
    {
     "data": {
      "text/plain": [
       "[[45.631564848884736, 20.84843421301266, 0.070251801121244],\n",
       " [31.422545402507552, -2.941191209918443, 0.070479987748836],\n",
       " [43.15593823471849, -63.03374253820336, 0.074068278368025],\n",
       " [83.68072526002337, -24.123962092271057, 0.072629494377581]]"
      ]
     },
     "execution_count": 2,
     "metadata": {},
     "output_type": "execute_result"
    }
   ],
   "source": [
    "#Defining constants\n",
    "\n",
    "#Speed of light in km/s\n",
    "c = 299792458/1000\n",
    "\n",
    "#Satellite radius from centre of earth:\n",
    "sat_altitude = 20200\n",
    "earth_radius = 6371\n",
    "sat_radius = sat_altitude + earth_radius\n",
    "\n",
    "\n",
    "def read_txt_file(filename):\n",
    "    \"\"\"Simple function to read satellite positions from text file\"\"\"\n",
    "    file = open(filename, 'r')\n",
    "    lines = file.readlines()\n",
    "    data = []\n",
    "    for line in lines:\n",
    "        sat_data = line.strip().split()\n",
    "        sat_data = [float(coord) for coord in sat_data]\n",
    "        data.append(sat_data)\n",
    "    file.close()\n",
    "    return data\n",
    "    \n",
    "satellite_positions = read_txt_file('gps_data.txt')\n",
    "\n",
    "#Displaying positions:\n",
    "satellite_positions"
   ]
  },
  {
   "cell_type": "markdown",
   "metadata": {},
   "source": [
    "Next, functions for transforming positions between Cartesian and Spherical coordinate systems were defined using standard relations. The satellite positions were then transformed to Cartesians and saved as numpy arrays. These results are shown below."
   ]
  },
  {
   "cell_type": "code",
   "execution_count": 3,
   "metadata": {},
   "outputs": [
    {
     "data": {
      "text/plain": [
       "[array([17363.75140643,  6612.6720435 , 18994.49253181, 21060.96013706]),\n",
       " array([22644.3808991 , -1163.43677329, 13852.67012424, 21129.36876703]),\n",
       " array([  8789.71027666, -17275.92196577,  18174.20024334,  22205.11123178]),\n",
       " array([ 2669.20703675, -1195.33393751, 26409.55417217, 21773.77464275])]"
      ]
     },
     "execution_count": 3,
     "metadata": {},
     "output_type": "execute_result"
    }
   ],
   "source": [
    "def cartesian_transform(lat, long, tof, radius):\n",
    "    \"\"\"Converts coordinates in global spherical to carteisan coordinates, and\n",
    "    converts time-of-flight to pseudorange\"\"\"\n",
    "    lat, long = np.radians(lat), np.radians(long)\n",
    "    x = radius * np.cos(lat) * np.cos(long)\n",
    "    y = radius * np.cos(lat) * np.sin(long)\n",
    "    z = radius * np.sin(lat)\n",
    "    pseudorange = (tof * c)\n",
    "    return [x, y, z, pseudorange]\n",
    "\n",
    "def spherical_transform(x ,y, z):\n",
    "    \"\"\"Converts from global cartesian coordinates to spherical\n",
    "    using standard transformations.\"\"\"\n",
    "    R = np.sqrt(x**2 + y**2 + z**2)\n",
    "    lat = np.arcsin(z / R)\n",
    "    long = np.arctan(y/x)\n",
    "    return [np.degrees(lat), np.degrees(long), R]\n",
    "\n",
    "def sat_coords_vector(positions):\n",
    "    \"\"\"Returns satellite positions in cartesian coordinates, assuming constant\n",
    "    satellite radius defined above.\"\"\"\n",
    "    sat_vector = []\n",
    "    for sat in positions:\n",
    "        sat_vector.append(np.array(cartesian_transform(*sat, sat_radius)))\n",
    "    return sat_vector\n",
    "\n",
    "sat_positions = sat_coords_vector(satellite_positions)\n",
    "sat_positions"
   ]
  },
  {
   "cell_type": "markdown",
   "metadata": {},
   "source": [
    "Functions to calculate the individual vectors required for the prediction algorithm were then defined. As a single Newton iteration is defined as follows:\n",
    "\n",
    "$U_{n+1} = U_n - J^{-1}(U_n)F(U_n)$\n",
    "\n",
    "where $U_n$ is a vector consisting of the unknown parameters $(x,y,z,b)^T$ at step $n$, $F$ is the vector of functions  $(f_1,f_2,f_3,f_4)^T$, while $J$ denotes a 4x4 Jacobian matrix, with each element at row $i$, column $j$ defined as: $\\textit{J}_{i,j} = \\frac{\\partial f_i}{\\partial u_j}$\n",
    "\n",
    "As mentioned above, the functions within F are defined as follows:\n",
    "\n",
    "$f_k(x,y,z,b) = (x-x_k)^2 + (y-y_k)^2 + (z-z_k)^2 - (d_k-b)^2 = 0 (k = 1,2,3,4)$\n",
    "\n",
    "Therefore, it was noticed that each row of the Jacobian $J$ would be equivalent to:\n",
    "\n",
    "$+(2u - 2u_k)$ for $u \\equiv x,y,z$ and $-(2u - 2d_k)$ for $u \\equiv b$\n",
    "\n",
    "Hence a function was written to calculate the Jacobian based on these relations."
   ]
  },
  {
   "cell_type": "code",
   "execution_count": 4,
   "metadata": {},
   "outputs": [],
   "source": [
    "def f1(x_k, y_k, z_k, d_k):\n",
    "    \"\"\"Function that returns the function f_k when the\n",
    "    satellite positions (x_k, y_k, z_k) are given as inputs\"\"\"\n",
    "    def new_func(x, y, z, b):\n",
    "        return (x-x_k)**2 + (y-y_k)**2 + (z-z_k)**2 - (d_k-b)**2\n",
    "    return new_func\n",
    "\n",
    "def get_f_vector(sat_positions):\n",
    "    f_vector = []\n",
    "    for sat in sat_positions:\n",
    "        f_vector.append(f1(*sat))\n",
    "    return f_vector\n",
    "\n",
    "def get_f_array(U_n, f_vector):\n",
    "    \"\"\"Inputs: Vector of unknowns U_n and vector of functions f_1,...,f_4\n",
    "    \n",
    "    Outputs: Vector of function values of unknowns F(U_n)\"\"\"\n",
    "    f_array = []\n",
    "    for func in f_vector:\n",
    "        f_array.append(func(*U_n))\n",
    "    return np.array(f_array)\n",
    "\n",
    "\n",
    "def deriv(x, x_k):\n",
    "    \"\"\"Simple function to calculate the dervative value for the Jacobian elements\"\"\"\n",
    "    return (2*x - 2*x_k)\n",
    "\n",
    "\n",
    "def calculate_J(U_n, sat_positions):\n",
    "    \"\"\"Function to calculate Jacobian matrix given the unknowns vector\n",
    "    and positions of the satellite in Cartesian coordinates\"\"\"\n",
    "    J = []\n",
    "    for sat in sat_positions:\n",
    "        j_row = deriv(U_n, sat)\n",
    "        #As last element of each row is equivalent to -2(b-d_k):\n",
    "        j_row[-1] = j_row[-1]*(-1)\n",
    "        J.append(j_row)\n",
    "    return J"
   ]
  },
  {
   "cell_type": "markdown",
   "metadata": {},
   "source": [
    "Having defined the individual elements for Newton's method, these were combined to repeat the process over a certain number of iterations to acquire an accurate solution. The expression $J^{-1}(U_n)F(U_n)$ was acquired by solving the Matrix equation $JX = F$ for $X$ using numpy."
   ]
  },
  {
   "cell_type": "code",
   "execution_count": 5,
   "metadata": {},
   "outputs": [],
   "source": [
    "def get_next_step(U_n, F_vector, satellite_positions):\n",
    "    \"\"\"Function to acquire the next iteration of Newton's method, i.e. to find U_(n+1)\"\"\"\n",
    "    J = calculate_J(U_n, satellite_positions)\n",
    "    F = get_f_array(U_n, F_vector)\n",
    "    J_1F = np.linalg.solve(J, F)\n",
    "    U_n = U_n - J_1F\n",
    "    return U_n, F\n",
    "\n",
    "def convert_coords(U_n):\n",
    "    \"\"\"Input: Vector of guesses for unknown parameters in cartesian coordiantes\n",
    "    \n",
    "    Output: Latitude, longitude and elevation of location as well as\n",
    "    clock offset of receiver in microseconds\"\"\"\n",
    "    U_n_spherical = spherical_transform(*U_n[:3])\n",
    "    lat, long = U_n_spherical[0:2]\n",
    "    #elevation in metres\n",
    "    elevation = (U_n_spherical[-1] - earth_radius)*1000\n",
    "    #Offset in μs\n",
    "    clock_offset = U_n[-1]/(c*10e-6)\n",
    "    return lat, long, elevation, clock_offset\n",
    "    \n",
    "def display_results(U_n):\n",
    "    \"\"\"Simple function to print results to screen in appropriate format\"\"\"\n",
    "    \n",
    "    lat, long, elevation, clock_offset = convert_coords(U_n)\n",
    "    print('Calculated latitude and longitude: %s, %s degrees' % (lat,long))\n",
    "    print('Calculated elevation: %s m' % elevation)\n",
    "    print('Calculated receiver clock offset: %s microseconds' % clock_offset)\n",
    "\n",
    "    \n",
    "def Newton_algorithm(U_n, satellite_positions, iterations=15, criterion=3e-7):\n",
    "    \"\"\"Function to implement Newton's method using previously defined functions.\n",
    "    A convergence criterion was set to 3e-7, and the algorithm stops when the\n",
    "    sum of the functions vector is below this threshold\"\"\"\n",
    "    F_vector = get_f_vector(satellite_positions)\n",
    "    i = 1\n",
    "    while i < iterations:\n",
    "        U_n, F = get_next_step(U_n, F_vector, satellite_positions)\n",
    "        tolerance = np.sum(abs(F))\n",
    "        if tolerance < criterion:\n",
    "            print('Convergence after %s iterations' % str(i))\n",
    "            display_results(U_n)\n",
    "            return U_n\n",
    "        else:\n",
    "            i +=1\n",
    "    print('Convergence not reached after %s iterations \\n' % str(i))\n",
    "    display_results(U_n)\n",
    "    return U_n"
   ]
  },
  {
   "cell_type": "code",
   "execution_count": 6,
   "metadata": {},
   "outputs": [
    {
     "name": "stdout",
     "output_type": "stream",
     "text": [
      "Convergence after 7 iterations\n",
      "Calculated latitude and longitude: 52.367660739150935, -7.942669138458443 degrees\n",
      "Calculated elevation: 61.34894579554384 m\n",
      "Calculated receiver clock offset: 122.37854508042572 microseconds\n"
     ]
    }
   ],
   "source": [
    "U_0 = np.array([0,0,0,0])\n",
    "\n",
    "solution = Newton_algorithm(U_0, sat_positions)"
   ]
  },
  {
   "cell_type": "markdown",
   "metadata": {},
   "source": [
    "As is shown above, the solution reached convergence after 7 iterations of Newton's method for a very crude initial guess of the Earth's centre, giving a location that was near Clonmell in County Tipperary as shown below:"
   ]
  },
  {
   "cell_type": "markdown",
   "metadata": {},
   "source": [
    "![Position](GPS_position.png \"Position derived using Newton's method\")"
   ]
  },
  {
   "cell_type": "markdown",
   "metadata": {},
   "source": [
    "To experiment with how much of an effect the initial guess has on this method, the centre of Ireland (roughly Athlone town) was found in spherical coordiantes using Google maps and converted to Cartesian coordinates with an assumed receiver offset of 0. As it is given in the assignment brief that the location is in Ireland, this is realistically the best initial guess we can give."
   ]
  },
  {
   "cell_type": "code",
   "execution_count": 7,
   "metadata": {},
   "outputs": [
    {
     "name": "stdout",
     "output_type": "stream",
     "text": [
      "Convergence after 4 iterations\n",
      "Calculated latitude and longitude: 52.36766073915084, -7.942669138458065 degrees\n",
      "Calculated elevation: 61.348945659119636 m\n",
      "Calculated receiver clock offset: 122.37854508038838 microseconds\n"
     ]
    }
   ],
   "source": [
    "centre_of_ireland = [53.42640419715147, -7.926008754164638]\n",
    "\n",
    "centre_of_ireland_cartesian = np.array(cartesian_transform(*centre_of_ireland, 0, earth_radius))\n",
    "\n",
    "new_solution = Newton_algorithm(centre_of_ireland_cartesian, sat_positions)"
   ]
  },
  {
   "cell_type": "markdown",
   "metadata": {},
   "source": [
    "As shown above, this gives the exact same position with 3 fewer iterations. Therefore, the initial guess does have a demonstratable effect on convergence, however, 7 iterations is still very efficient, especially for such a basic initial guess."
   ]
  }
 ],
 "metadata": {
  "kernelspec": {
   "display_name": "Python 3",
   "language": "python",
   "name": "python3"
  },
  "language_info": {
   "codemirror_mode": {
    "name": "ipython",
    "version": 3
   },
   "file_extension": ".py",
   "mimetype": "text/x-python",
   "name": "python",
   "nbconvert_exporter": "python",
   "pygments_lexer": "ipython3",
   "version": "3.6.13"
  }
 },
 "nbformat": 4,
 "nbformat_minor": 2
}
