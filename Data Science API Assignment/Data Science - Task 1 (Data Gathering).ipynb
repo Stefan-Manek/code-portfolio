{
 "cells": [
  {
   "cell_type": "markdown",
   "id": "three-conversation",
   "metadata": {},
   "source": [
    "## Task 1 - Data Collection"
   ]
  },
  {
   "cell_type": "markdown",
   "id": "listed-knock",
   "metadata": {},
   "source": [
    "**Name:** Stefan Manek"
   ]
  },
  {
   "cell_type": "markdown",
   "id": "combined-valentine",
   "metadata": {},
   "source": [
    "In this assignment, data was taken from the [Football API](https://www.football-data.org/) to perform two separate studies. A brief analysis of the proportion of native players within 8 professional European football leagues was performed, as well as a crude prediction model of match results using Poisson statistics based on prior results."
   ]
  },
  {
   "cell_type": "markdown",
   "id": "residential-narrow",
   "metadata": {},
   "source": [
    "This notebook contains the code written for the collection of the data needed for both studies. Since the majority of the data used within the analysis was historical, there was no need to gather this over a long time period. Various filters and specific resources could be specified within the 'Get' request to the API, and so multiple different urls were utilised to gain the required data."
   ]
  },
  {
   "cell_type": "code",
   "execution_count": 1,
   "id": "ordered-banking",
   "metadata": {},
   "outputs": [],
   "source": [
    "#Importing Libraries\n",
    "import http.client\n",
    "import json, requests, urllib\n",
    "import matplotlib\n",
    "import matplotlib.pyplot as plt\n",
    "from pathlib import Path\n",
    "import pandas as pd\n",
    "import time"
   ]
  },
  {
   "cell_type": "code",
   "execution_count": 2,
   "id": "offensive-transcription",
   "metadata": {},
   "outputs": [],
   "source": [
    "# API Key \n",
    "api_key = '____'",
    "# Prefix for API URLs\n",
    "api_prefix = 'api.football-data.org'"
   ]
  },
  {
   "cell_type": "markdown",
   "id": "designing-deposit",
   "metadata": {},
   "source": [
    "#### Analysis 1 - Players from Leagues"
   ]
  },
  {
   "cell_type": "markdown",
   "id": "wireless-drink",
   "metadata": {},
   "source": [
    "The first part of this analysis was the comparison of native scorers and players across 8 chosen leagues, listed in league_names below. Their corresponding IDs were taken from the API documentation and saved in a list for easy access."
   ]
  },
  {
   "cell_type": "code",
   "execution_count": 3,
   "id": "measured-alexandria",
   "metadata": {},
   "outputs": [],
   "source": [
    "# League IDs for study\n",
    "league_ids = ['BL1', 'PL', 'ELC', 'PPL', 'SA', 'DED', 'FL1', 'PD']\n",
    "# The league IDs corresponding to each league name\n",
    "league_names = {'BL1': 'Bundesliga',\n",
    "                'PL' : 'Premier League',\n",
    "                'ELC': 'EFL Championship',\n",
    "                'PPL': 'Premiera Liga',\n",
    "                'SA' : 'Seria A',\n",
    "                'DED': 'Eredivise',\n",
    "                'FL1': 'Ligue 1',\n",
    "                'PD' : 'La Liga'}\n",
    "\n",
    "leagues = []\n",
    "for id_ in league_ids:\n",
    "    leagues.append(league_names[id_])"
   ]
  },
  {
   "cell_type": "markdown",
   "id": "boxed-enlargement",
   "metadata": {},
   "source": [
    "Creating a directory in which to call the saved raw data, and store processed data:"
   ]
  },
  {
   "cell_type": "code",
   "execution_count": 5,
   "id": "radio-referral",
   "metadata": {},
   "outputs": [],
   "source": [
    "dir_raw = Path(\"Raw Data\")\n",
    "dir_raw.mkdir(parents=True, exist_ok=True)\n",
    "\n",
    "dir_data = Path(\"Processed Data\")\n",
    "dir_data.mkdir(parents=True, exist_ok=True)"
   ]
  },
  {
   "cell_type": "markdown",
   "id": "growing-advantage",
   "metadata": {},
   "source": [
    "Convenience function for requesting data from the API:"
   ]
  },
  {
   "cell_type": "code",
   "execution_count": 4,
   "id": "listed-stone",
   "metadata": {},
   "outputs": [],
   "source": [
    "def check_backslash(url):\n",
    "    \"\"\"Simple function that adds a '/' to the end of a url if one is not already present\"\"\"\n",
    "    if not url.endswith(\"/\"):\n",
    "        url += \"/\"\n",
    "    return url\n",
    "\n",
    "def fetch(endpoint, league_id, resource, params={}):\n",
    "    \"\"\"Inputs: url endpoint, the league's ID, the resource required and any relevant filter parameters.\n",
    "    \n",
    "    The default limt of returns is 10, so the limit must be specified to be large to retrieve all the scorers\n",
    "    \n",
    "    Output: Dictionary containing resource data\"\"\"\n",
    "    # construct the url\n",
    "    uri = endpoint\n",
    "    uri = check_backslash(uri) + league_id\n",
    "    uri = check_backslash(uri) + resource\n",
    "    \n",
    "    #Any added filters must be preceded by '?'\n",
    "    uri += \"?\" + urllib.parse.urlencode(params)\n",
    "    url = check_backslash(api_prefix) + uri\n",
    "    print(\"Fetching %s\" % url)\n",
    "    \n",
    "    # fetch the page\n",
    "    connection = http.client.HTTPConnection(api_prefix)\n",
    "    headers = { 'X-Auth-Token': api_key}\n",
    "    connection.request('GET', uri, None, headers)\n",
    "    response = json.loads(connection.getresponse().read().decode())\n",
    "    \n",
    "    \n",
    "    return response"
   ]
  },
  {
   "cell_type": "markdown",
   "id": "aggregate-maryland",
   "metadata": {},
   "source": [
    "This was used to acquire data on all scorer in the specified league in a specified season. Unfortunately, only the seasons starting in 2020 and 2021 were available using this API so any analysis is limited to these. Scorer data was saved in JSON format to Raw Data directory."
   ]
  },
  {
   "cell_type": "code",
   "execution_count": 20,
   "id": "still-backup",
   "metadata": {},
   "outputs": [
    {
     "name": "stdout",
     "output_type": "stream",
     "text": [
      "Fetching api.football-data.org//v2/competitions/BL1/scorers?season=2020&limit=500\n",
      "Writing data to Raw Data\\Scorer Data\\Bundesliga-2020-scorers.json\n",
      "Fetching api.football-data.org//v2/competitions/PL/scorers?season=2020&limit=500\n",
      "Writing data to Raw Data\\Scorer Data\\Premier League-2020-scorers.json\n",
      "Fetching api.football-data.org//v2/competitions/ELC/scorers?season=2020&limit=500\n",
      "Writing data to Raw Data\\Scorer Data\\EFL Championship-2020-scorers.json\n",
      "Fetching api.football-data.org//v2/competitions/PPL/scorers?season=2020&limit=500\n",
      "Writing data to Raw Data\\Scorer Data\\Premiera Liga-2020-scorers.json\n",
      "Fetching api.football-data.org//v2/competitions/SA/scorers?season=2020&limit=500\n",
      "Writing data to Raw Data\\Scorer Data\\Seria A-2020-scorers.json\n",
      "Fetching api.football-data.org//v2/competitions/DED/scorers?season=2020&limit=500\n",
      "Writing data to Raw Data\\Scorer Data\\Eredivise-2020-scorers.json\n",
      "Fetching api.football-data.org//v2/competitions/FL1/scorers?season=2020&limit=500\n",
      "Writing data to Raw Data\\Scorer Data\\Ligue 1-2020-scorers.json\n",
      "Fetching api.football-data.org//v2/competitions/PD/scorers?season=2020&limit=500\n",
      "Writing data to Raw Data\\Scorer Data\\La Liga-2020-scorers.json\n",
      "Fetching api.football-data.org//v2/competitions/BL1/scorers?season=2021&limit=500\n",
      "Writing data to Raw Data\\Scorer Data\\Bundesliga-2021-scorers.json\n",
      "Fetching api.football-data.org//v2/competitions/PL/scorers?season=2021&limit=500\n",
      "Writing data to Raw Data\\Scorer Data\\Premier League-2021-scorers.json\n",
      "Fetching api.football-data.org//v2/competitions/ELC/scorers?season=2021&limit=500\n",
      "Writing data to Raw Data\\Scorer Data\\EFL Championship-2021-scorers.json\n",
      "Fetching api.football-data.org//v2/competitions/PPL/scorers?season=2021&limit=500\n",
      "Writing data to Raw Data\\Scorer Data\\Premiera Liga-2021-scorers.json\n",
      "Fetching api.football-data.org//v2/competitions/SA/scorers?season=2021&limit=500\n",
      "Writing data to Raw Data\\Scorer Data\\Seria A-2021-scorers.json\n",
      "Fetching api.football-data.org//v2/competitions/DED/scorers?season=2021&limit=500\n",
      "Writing data to Raw Data\\Scorer Data\\Eredivise-2021-scorers.json\n",
      "Fetching api.football-data.org//v2/competitions/FL1/scorers?season=2021&limit=500\n",
      "Writing data to Raw Data\\Scorer Data\\Ligue 1-2021-scorers.json\n",
      "Fetching api.football-data.org//v2/competitions/PD/scorers?season=2021&limit=500\n",
      "Writing data to Raw Data\\Scorer Data\\La Liga-2021-scorers.json\n"
     ]
    }
   ],
   "source": [
    "endpoint = \"/v2/competitions/\"\n",
    "seasons = ['2020', '2021']\n",
    "for season_year in seasons:\n",
    "    params = {'season': season_year, 'limit':str(500)}\n",
    "    resource = 'scorers'\n",
    "    for id_ in league_ids:\n",
    "        time.sleep(6)\n",
    "        scorer_data = fetch(endpoint, id_, resource, params)\n",
    "        filename = \"%s-%s-%s.json\" % (league_names[id_], params['season'], resource)\n",
    "        out_path = dir_raw / 'Scorer Data' / filename\n",
    "        print(\"Writing data to %s\" % out_path)\n",
    "        fout = open(out_path, \"w\")\n",
    "        json.dump(scorer_data, fout, indent=4)\n",
    "        fout.close()"
   ]
  },
  {
   "cell_type": "markdown",
   "id": "precious-myanmar",
   "metadata": {},
   "source": [
    "Data on the teams taking part in each league in the season beginning in 2020 (last season) was also requested and stored in Raw Data:"
   ]
  },
  {
   "cell_type": "code",
   "execution_count": 10,
   "id": "described-yukon",
   "metadata": {},
   "outputs": [
    {
     "name": "stdout",
     "output_type": "stream",
     "text": [
      "Fetching api.football-data.org//v2/competitions/BL1/teams?season=2020\n",
      "Writing data to Raw Data\\Team Data\\BL1-2020-teams.json\n",
      "Fetching api.football-data.org//v2/competitions/PL/teams?season=2020\n",
      "Writing data to Raw Data\\Team Data\\PL-2020-teams.json\n",
      "Fetching api.football-data.org//v2/competitions/ELC/teams?season=2020\n",
      "Writing data to Raw Data\\Team Data\\ELC-2020-teams.json\n",
      "Fetching api.football-data.org//v2/competitions/PPL/teams?season=2020\n",
      "Writing data to Raw Data\\Team Data\\PPL-2020-teams.json\n",
      "Fetching api.football-data.org//v2/competitions/SA/teams?season=2020\n",
      "Writing data to Raw Data\\Team Data\\SA-2020-teams.json\n",
      "Fetching api.football-data.org//v2/competitions/DED/teams?season=2020\n",
      "Writing data to Raw Data\\Team Data\\DED-2020-teams.json\n",
      "Fetching api.football-data.org//v2/competitions/FL1/teams?season=2020\n",
      "Writing data to Raw Data\\Team Data\\FL1-2020-teams.json\n",
      "Fetching api.football-data.org//v2/competitions/PD/teams?season=2020\n",
      "Writing data to Raw Data\\Team Data\\PD-2020-teams.json\n",
      "Fetching api.football-data.org//v2/competitions/BL1/teams?season=2021\n",
      "Writing data to Raw Data\\Team Data\\BL1-2021-teams.json\n",
      "Fetching api.football-data.org//v2/competitions/PL/teams?season=2021\n",
      "Writing data to Raw Data\\Team Data\\PL-2021-teams.json\n",
      "Fetching api.football-data.org//v2/competitions/ELC/teams?season=2021\n",
      "Writing data to Raw Data\\Team Data\\ELC-2021-teams.json\n",
      "Fetching api.football-data.org//v2/competitions/PPL/teams?season=2021\n",
      "Writing data to Raw Data\\Team Data\\PPL-2021-teams.json\n",
      "Fetching api.football-data.org//v2/competitions/SA/teams?season=2021\n",
      "Writing data to Raw Data\\Team Data\\SA-2021-teams.json\n",
      "Fetching api.football-data.org//v2/competitions/DED/teams?season=2021\n",
      "Writing data to Raw Data\\Team Data\\DED-2021-teams.json\n",
      "Fetching api.football-data.org//v2/competitions/FL1/teams?season=2021\n",
      "Writing data to Raw Data\\Team Data\\FL1-2021-teams.json\n",
      "Fetching api.football-data.org//v2/competitions/PD/teams?season=2021\n",
      "Writing data to Raw Data\\Team Data\\PD-2021-teams.json\n"
     ]
    }
   ],
   "source": [
    "endpoint = \"/v2/competitions/\"\n",
    "seasons = ['2020', '2021']\n",
    "for season_year in seasons:\n",
    "    params = {'season': season_year}\n",
    "    resource = 'teams'\n",
    "    for id_ in league_ids:\n",
    "        teams_data = fetch(endpoint, id_, resource, params)\n",
    "        filename = \"%s-%s-%s.json\" % (id_, params['season'], resource)\n",
    "        out_path = dir_raw / 'Team Data' / filename\n",
    "        print(\"Writing data to %s\" % out_path)\n",
    "        fout = open(out_path, \"w\")\n",
    "        json.dump(teams_data, fout, indent=4)\n",
    "        fout.close()"
   ]
  },
  {
   "cell_type": "markdown",
   "id": "conservative-horizon",
   "metadata": {},
   "source": [
    "The full roster of players from each league was requested via the API using the following functions, and combined to a csv file for each league to avoid the clutter of having a single json file for each team (roughly 140). The csv files, containing data for all players from each league, was saved to the Raw data directory."
   ]
  },
  {
   "cell_type": "code",
   "execution_count": 8,
   "id": "coupled-short",
   "metadata": {},
   "outputs": [
    {
     "name": "stdout",
     "output_type": "stream",
     "text": [
      "Fetching api.football-data.org//v2/competitions/BL1/teams?season=2020\n",
      "Fetching api.football-data.org//v2/competitions/PL/teams?season=2020\n",
      "Fetching api.football-data.org//v2/competitions/ELC/teams?season=2020\n",
      "Fetching api.football-data.org//v2/competitions/PPL/teams?season=2020\n",
      "Fetching api.football-data.org//v2/competitions/SA/teams?season=2020\n",
      "Fetching api.football-data.org//v2/competitions/DED/teams?season=2020\n",
      "Fetching api.football-data.org//v2/competitions/FL1/teams?season=2020\n",
      "Fetching api.football-data.org//v2/competitions/PD/teams?season=2020\n"
     ]
    }
   ],
   "source": [
    "def parse_team_squads(team_ids):\n",
    "    response_start = '/v2/teams/'\n",
    "    rows = []\n",
    "    for id_ in team_ids:\n",
    "        #As only 10 requests permitted /min, sleep for 6s so this is not exceeded\n",
    "        time.sleep(6)\n",
    "        response_string = response_start + str(id_)\n",
    "        team_dict = request_function(response_string)\n",
    "        players = extract_squad_details(team_dict)\n",
    "        rows += players\n",
    "    players_df = pd.DataFrame(rows)\n",
    "    players_df.set_index('Name', inplace=True)\n",
    "    return players_df\n",
    "\n",
    "def request_function(req_string):\n",
    "    connection = http.client.HTTPConnection(api_prefix)\n",
    "    headers = { 'X-Auth-Token': api_key}\n",
    "    connection.request('GET', req_string, None, headers )\n",
    "    response = json.loads(connection.getresponse().read().decode())\n",
    "    return response\n",
    "\n",
    "def get_team_ids(teams_response_dict):\n",
    "    teams_id_dict = {}\n",
    "    for team in teams_response_dict['teams']:\n",
    "        name = team['name']\n",
    "        id_ = team['id']\n",
    "        teams_id_dict[name] = id_\n",
    "    return teams_id_dict\n",
    "\n",
    "def extract_squad_details(squad_dict):\n",
    "    rows = []\n",
    "    for player in squad_dict['squad']:\n",
    "        row = {}\n",
    "        row['Name'] = player['name']\n",
    "        row['Team'] = squad_dict['name']\n",
    "        row['Position'] = player['position']\n",
    "        row['Nationality'] = player['nationality']\n",
    "        row['Country of Birth'] = player['countryOfBirth']\n",
    "        rows.append(row)\n",
    "    return rows\n",
    "\n",
    "endpoint = '/v2/competitions'\n",
    "seasons = ['2020']\n",
    "for season in seasons:\n",
    "    for id_ in league_ids:\n",
    "        teams_dict = fetch(endpoint, id_, 'teams', params={'season' : season})\n",
    "        team_ids_dict = get_team_ids(teams_dict)\n",
    "        team_ids = team_ids_dict.values()\n",
    "        players_df = parse_team_squads(team_ids)\n",
    "\n",
    "        #Saving to csv file\n",
    "        league_filename = 'Raw Data/Squads/%s-players-%s.csv' % (league_names[id_], str(season))\n",
    "        players_df.to_csv(league_filename)"
   ]
  },
  {
   "cell_type": "markdown",
   "id": "changed-sussex",
   "metadata": {},
   "source": [
    "### Analysis 2 - Prediction Model"
   ]
  },
  {
   "cell_type": "markdown",
   "id": "alien-publisher",
   "metadata": {},
   "source": [
    "For the prediction model analysis, only the Premier League was considered, and so the fixtures and results from the 2020/21 season were requested from the API as the historical data upon which the model is based."
   ]
  },
  {
   "cell_type": "markdown",
   "id": "political-sunday",
   "metadata": {},
   "source": [
    "A convenience function was written to request all the matches for each team in the Premier league in the 2020 Season:"
   ]
  },
  {
   "cell_type": "code",
   "execution_count": 10,
   "id": "norman-hungarian",
   "metadata": {},
   "outputs": [
    {
     "name": "stdout",
     "output_type": "stream",
     "text": [
      "Requesting: /v2/teams/57/matches?dateFrom=2020-08-13&dateTo=2021-06-01\n",
      "Requesting: /v2/teams/58/matches?dateFrom=2020-08-13&dateTo=2021-06-01\n",
      "Requesting: /v2/teams/61/matches?dateFrom=2020-08-13&dateTo=2021-06-01\n",
      "Requesting: /v2/teams/62/matches?dateFrom=2020-08-13&dateTo=2021-06-01\n",
      "Requesting: /v2/teams/63/matches?dateFrom=2020-08-13&dateTo=2021-06-01\n",
      "Requesting: /v2/teams/64/matches?dateFrom=2020-08-13&dateTo=2021-06-01\n",
      "Requesting: /v2/teams/65/matches?dateFrom=2020-08-13&dateTo=2021-06-01\n",
      "Requesting: /v2/teams/66/matches?dateFrom=2020-08-13&dateTo=2021-06-01\n",
      "Requesting: /v2/teams/67/matches?dateFrom=2020-08-13&dateTo=2021-06-01\n",
      "Requesting: /v2/teams/73/matches?dateFrom=2020-08-13&dateTo=2021-06-01\n",
      "Requesting: /v2/teams/74/matches?dateFrom=2020-08-13&dateTo=2021-06-01\n",
      "Requesting: /v2/teams/76/matches?dateFrom=2020-08-13&dateTo=2021-06-01\n",
      "Requesting: /v2/teams/328/matches?dateFrom=2020-08-13&dateTo=2021-06-01\n",
      "Requesting: /v2/teams/338/matches?dateFrom=2020-08-13&dateTo=2021-06-01\n",
      "Requesting: /v2/teams/340/matches?dateFrom=2020-08-13&dateTo=2021-06-01\n",
      "Requesting: /v2/teams/341/matches?dateFrom=2020-08-13&dateTo=2021-06-01\n",
      "Requesting: /v2/teams/354/matches?dateFrom=2020-08-13&dateTo=2021-06-01\n",
      "Requesting: /v2/teams/356/matches?dateFrom=2020-08-13&dateTo=2021-06-01\n",
      "Requesting: /v2/teams/397/matches?dateFrom=2020-08-13&dateTo=2021-06-01\n",
      "Requesting: /v2/teams/563/matches?dateFrom=2020-08-13&dateTo=2021-06-01\n"
     ]
    }
   ],
   "source": [
    "def read_json_file(file_path):\n",
    "    \"\"\"Simple function to read in JSON data\"\"\"\n",
    "    fin = open(file_path, \"r\")\n",
    "    jdata = fin.read()\n",
    "    data = json.loads(jdata)\n",
    "    fin.close()\n",
    "    return data\n",
    "\n",
    "def get_matches_dict(team_id):\n",
    "    url = '/v2/teams/%s/matches?' % str(team_id)\n",
    "    params = {'dateFrom': '2020-08-13',\n",
    "             'dateTo' : '2021-06-01'}\n",
    "    url += urllib.parse.urlencode(params)\n",
    "    connection = http.client.HTTPConnection('api.football-data.org')\n",
    "    headers = { 'X-Auth-Token': api_key }\n",
    "    connection.request('GET', url, None, headers )\n",
    "    response = json.loads(connection.getresponse().read().decode())\n",
    "    print('Requesting: '+ url)\n",
    "    return response\n",
    "\n",
    "\n",
    "PL_teams = read_json_file('Raw Data/Team Data/PL-2020-teams.json')\n",
    "PL_team_ids_dict = get_team_ids(PL_teams)\n",
    "\n",
    "for team in PL_team_ids_dict:\n",
    "    id_ = PL_team_ids_dict[team]\n",
    "    matches_dict = get_matches_dict(id_)\n",
    "    file_path = 'Raw Data/Matches/%s-matches.json' % team\n",
    "    fout = open(file_path, \"w\")\n",
    "    json.dump(matches_dict, fout, indent=4)\n",
    "    fout.close()\n",
    "    time.sleep(6)"
   ]
  },
  {
   "cell_type": "markdown",
   "id": "detected-awareness",
   "metadata": {},
   "source": [
    "The performance of the model was also investigated using the first round of Premier League fixtures (matchday 1) so the data for these matches was also requested and saved:"
   ]
  },
  {
   "cell_type": "code",
   "execution_count": 13,
   "id": "statewide-malpractice",
   "metadata": {},
   "outputs": [],
   "source": [
    "connection = http.client.HTTPConnection(api_prefix)\n",
    "headers = { 'X-Auth-Token': api_key}\n",
    "connection.request('GET', '/v2/competitions/PL/matches?matchday=1', None, headers )\n",
    "response = json.loads(connection.getresponse().read().decode())\n",
    "\n",
    "fout = open(dir_raw/'PL_Matchday1_fixtures.json', \"w\")\n",
    "json.dump(response, fout, indent=4)\n",
    "fout.close()"
   ]
  }
 ],
 "metadata": {
  "kernelspec": {
   "display_name": "Python 3",
   "language": "python",
   "name": "python3"
  },
  "language_info": {
   "codemirror_mode": {
    "name": "ipython",
    "version": 3
   },
   "file_extension": ".py",
   "mimetype": "text/x-python",
   "name": "python",
   "nbconvert_exporter": "python",
   "pygments_lexer": "ipython3",
   "version": "3.6.13"
  }
 },
 "nbformat": 4,
 "nbformat_minor": 5
}
