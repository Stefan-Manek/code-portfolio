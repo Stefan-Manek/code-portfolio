{
 "cells": [
  {
   "cell_type": "markdown",
   "id": "million-accountability",
   "metadata": {},
   "source": [
    "## Task 2 - Data Analysis"
   ]
  },
  {
   "cell_type": "markdown",
   "id": "surgical-reasoning",
   "metadata": {},
   "source": [
    "**Name:** Stefan Manek"
   ]
  },
  {
   "cell_type": "markdown",
   "id": "united-metropolitan",
   "metadata": {},
   "source": [
    "In this assignment, data acquired from the [Football API](https://www.football-data.org/) is used to compare the percentages of native players in 8 professional European football Leagues in **Analysis 1**, and to develop a prediction model based on prior team performace in **Analysis 2**."
   ]
  },
  {
   "cell_type": "code",
   "execution_count": 27,
   "id": "inappropriate-regulation",
   "metadata": {},
   "outputs": [],
   "source": [
    "#Importing Libraries\n",
    "import http.client\n",
    "import json, requests, urllib\n",
    "import matplotlib\n",
    "import matplotlib.pyplot as plt\n",
    "from pathlib import Path\n",
    "import pandas as pd\n",
    "import time\n",
    "import numpy as np\n",
    "from scipy.stats import poisson\n",
    "import seaborn as sns\n",
    "import os"
   ]
  },
  {
   "cell_type": "markdown",
   "id": "stuffed-tournament",
   "metadata": {},
   "source": [
    "The names and API ids for each of the leagues were stored as follows for easy access:"
   ]
  },
  {
   "cell_type": "code",
   "execution_count": 3,
   "id": "directed-relations",
   "metadata": {},
   "outputs": [],
   "source": [
    "# League IDs for study\n",
    "league_ids = ['BL1', 'PL', 'ELC', 'PPL', 'SA', 'DED', 'FL1', 'PD']\n",
    "# The league IDs corresponding to each league name\n",
    "league_names = {'BL1': 'Bundesliga',\n",
    "                'PL' : 'Premier League',\n",
    "                'ELC': 'EFL Championship',\n",
    "                'PPL': 'Premiera Liga',\n",
    "                'SA' : 'Seria A',\n",
    "                'DED': 'Eredivise',\n",
    "                'FL1': 'Ligue 1',\n",
    "                'PD' : 'La Liga'}\n",
    "\n",
    "leagues = []\n",
    "for id_ in league_ids:\n",
    "    leagues.append(league_names[id_])"
   ]
  },
  {
   "cell_type": "markdown",
   "id": "latin-african",
   "metadata": {},
   "source": [
    "Directory for saving and reading in processed data was defined:"
   ]
  },
  {
   "cell_type": "code",
   "execution_count": 4,
   "id": "behavioral-incentive",
   "metadata": {},
   "outputs": [],
   "source": [
    "dir_data = Path(\"Processed Data\")\n",
    "dir_data.mkdir(parents=True, exist_ok=True)"
   ]
  },
  {
   "cell_type": "markdown",
   "id": "meaningful-knight",
   "metadata": {},
   "source": [
    "### Analysis 1 - Native Players"
   ]
  },
  {
   "cell_type": "markdown",
   "id": "independent-discount",
   "metadata": {},
   "source": [
    "The key question of this analysis is simply: \n",
    "\n",
    "How do the native player percentages in 8 of the major European football leagues compare?"
   ]
  },
  {
   "cell_type": "markdown",
   "id": "historic-lecture",
   "metadata": {},
   "source": [
    "As the data for the scorers in each league was easily available, this was the first dataset studied.\n",
    "\n",
    "The file paths of the saved scorer data were grouped together in a dictionary, with league name as the key:"
   ]
  },
  {
   "cell_type": "code",
   "execution_count": 5,
   "id": "scenic-bacon",
   "metadata": {},
   "outputs": [],
   "source": [
    "#Placing file paths for each league in dictionary with league names as keys\n",
    "\n",
    "scorer_data = Path(\"Raw Data/Scorer Data\")\n",
    "\n",
    "league_files = {}\n",
    "for id_ in league_ids:\n",
    "    league_files[league_names[id_]] = []\n",
    "for fpath in scorer_data.iterdir():\n",
    "    if fpath.suffix == \".json\":\n",
    "        # parse the filename\n",
    "        parts = fpath.stem.split(\"-\")\n",
    "        if parts[0] in league_names.values():\n",
    "            league_files[parts[0]].append(fpath)"
   ]
  },
  {
   "cell_type": "code",
   "execution_count": 6,
   "id": "brutal-provider",
   "metadata": {},
   "outputs": [],
   "source": [
    "def season_string(file_path):\n",
    "    \"\"\"Input: file path for scorer data containing all scorers in a league during one season\n",
    "    \n",
    "    Output: Season years in YYYY/YY format, containing start and end years\"\"\"\n",
    "    data = read_json_file(file_path)\n",
    "    start_year = data['season']['startDate'].split('-')[0]\n",
    "    end_year = data['season']['endDate'].split('-')[0]\n",
    "    print(start_year, end_year)\n",
    "    season_years = \"%s/%s\" % (start_year, end_year[2:])\n",
    "    return season_years\n",
    "\n",
    "def read_json_file(file_path):\n",
    "    \"\"\"Simple function to read in JSON data\"\"\"\n",
    "    fin = open(file_path, \"r\")\n",
    "    jdata = fin.read()\n",
    "    data = json.loads(jdata)\n",
    "    fin.close()\n",
    "    return data"
   ]
  },
  {
   "cell_type": "markdown",
   "id": "juvenile-israel",
   "metadata": {},
   "source": [
    "The scorer data for each league was then organised into csv files with relevant information on each player:"
   ]
  },
  {
   "cell_type": "code",
   "execution_count": 7,
   "id": "adolescent-charm",
   "metadata": {},
   "outputs": [],
   "source": [
    "def organise_scorer_data(league_name):\n",
    "    \"\"\"Input: Name of league as string\n",
    "    \n",
    "    Output: Saves a dataframe including details of all league scorers as a csv in the \n",
    "    processed data directory\"\"\"\n",
    "    league_paths = league_files[league_name]\n",
    "    for fpath in league_paths:\n",
    "        data = read_json_file(fpath)\n",
    "        season_year = data['season']['startDate'].split('-')[0]\n",
    "        rows = []\n",
    "\n",
    "        for scorer in data['scorers']:\n",
    "            row = {}\n",
    "            row['Scorer'] = scorer['player']['name']\n",
    "            row['Nationality'] = scorer['player']['nationality']\n",
    "            row['Goals Scored'] = scorer['numberOfGoals']\n",
    "            row['Position'] = scorer['player']['position']\n",
    "            row['Country of Birth'] = scorer['player']['countryOfBirth']\n",
    "            rows.append(row)\n",
    "        season_df = pd.DataFrame(rows)\n",
    "        season_df.set_index('Scorer', inplace=True)\n",
    "        file_name = 'Scorer Data/%s-%s-%s.csv' % (league_name, 'scorers', season_year)\n",
    "        file_path = dir_data / file_name\n",
    "        season_df.to_csv(file_path)\n",
    "    \n",
    "for league in leagues:\n",
    "    organise_scorer_data(league)"
   ]
  },
  {
   "cell_type": "code",
   "execution_count": 8,
   "id": "connected-median",
   "metadata": {},
   "outputs": [],
   "source": [
    "#Mapping each league to its respective nationality\n",
    "league_nationalities = {\n",
    "    'Bundesliga' : 'Germany',\n",
    "    'Premier League' : 'England',\n",
    "    'EFL Championship' : 'England',\n",
    "    'Premiera Liga' : 'Portugal',\n",
    "    'Seria A' : 'Italy',\n",
    "    'Eredivise' : 'Netherlands',\n",
    "    'Ligue 1' : 'France',\n",
    "    'La Liga' : 'Spain'}"
   ]
  },
  {
   "cell_type": "markdown",
   "id": "muslim-flower",
   "metadata": {},
   "source": [
    "Function was written to parse the scorer csv data and to calculate the percentage of native scorers. The scorer data was placed in dataframe objects, which were in then placed in a dictionary with league names and seasons as keys for easy access:"
   ]
  },
  {
   "cell_type": "code",
   "execution_count": 21,
   "id": "north-swiss",
   "metadata": {},
   "outputs": [],
   "source": [
    "def native_scorer_percentage(season_df, league_name):\n",
    "    \"\"\"Input: scorer dataframe for single season, and name of the league\n",
    "    \n",
    "    Output: The percentage of scorer from league's native country\"\"\"\n",
    "    nationalities_series = season_df['Nationality'].value_counts()\n",
    "    native_nationality = league_nationalities[league_name]\n",
    "    native_scorers = nationalities_series[native_nationality]\n",
    "    total_scorers = sum(nationalities_series)\n",
    "    native_fraction = (native_scorers / total_scorers)*100\n",
    "    return native_fraction\n",
    "\n",
    "processed_scorer_data = Path(\"Processed Data/Scorer Data\")\n",
    "\n",
    "league_dfs = {}\n",
    "for league in leagues:\n",
    "    season_dfs = {}\n",
    "    for season in ['2020', '2021']:\n",
    "        for filename in os.listdir(processed_scorer_data):\n",
    "            fpath = os.path.join(processed_scorer_data, filename)\n",
    "            if (league in fpath) and (season in fpath):\n",
    "                scorer_df = pd.read_csv(fpath, index_col=0)\n",
    "                season_dfs[season] = scorer_df\n",
    "    league_dfs[league] = season_dfs"
   ]
  },
  {
   "cell_type": "markdown",
   "id": "fatal-luxembourg",
   "metadata": {},
   "source": [
    "A sample of the scorer dataframe for the current 2021/22 Bundesliga season is displayed as an example:"
   ]
  },
  {
   "cell_type": "code",
   "execution_count": 40,
   "id": "sapphire-greece",
   "metadata": {},
   "outputs": [
    {
     "data": {
      "text/html": [
       "<div>\n",
       "<style scoped>\n",
       "    .dataframe tbody tr th:only-of-type {\n",
       "        vertical-align: middle;\n",
       "    }\n",
       "\n",
       "    .dataframe tbody tr th {\n",
       "        vertical-align: top;\n",
       "    }\n",
       "\n",
       "    .dataframe thead th {\n",
       "        text-align: right;\n",
       "    }\n",
       "</style>\n",
       "<table border=\"1\" class=\"dataframe\">\n",
       "  <thead>\n",
       "    <tr style=\"text-align: right;\">\n",
       "      <th></th>\n",
       "      <th>Nationality</th>\n",
       "      <th>Goals Scored</th>\n",
       "      <th>Position</th>\n",
       "      <th>Country of Birth</th>\n",
       "    </tr>\n",
       "    <tr>\n",
       "      <th>Scorer</th>\n",
       "      <th></th>\n",
       "      <th></th>\n",
       "      <th></th>\n",
       "      <th></th>\n",
       "    </tr>\n",
       "  </thead>\n",
       "  <tbody>\n",
       "    <tr>\n",
       "      <td>Robert Lewandowski</td>\n",
       "      <td>Poland</td>\n",
       "      <td>13</td>\n",
       "      <td>Attacker</td>\n",
       "      <td>Poland</td>\n",
       "    </tr>\n",
       "    <tr>\n",
       "      <td>Erling Haaland</td>\n",
       "      <td>Norway</td>\n",
       "      <td>9</td>\n",
       "      <td>Attacker</td>\n",
       "      <td>England</td>\n",
       "    </tr>\n",
       "    <tr>\n",
       "      <td>Anthony Modeste</td>\n",
       "      <td>France</td>\n",
       "      <td>8</td>\n",
       "      <td>Attacker</td>\n",
       "      <td>France</td>\n",
       "    </tr>\n",
       "    <tr>\n",
       "      <td>Patrik Schick</td>\n",
       "      <td>Czech Republic</td>\n",
       "      <td>8</td>\n",
       "      <td>Attacker</td>\n",
       "      <td>Czech Republic</td>\n",
       "    </tr>\n",
       "    <tr>\n",
       "      <td>Taiwo Awoniyi</td>\n",
       "      <td>Nigeria</td>\n",
       "      <td>7</td>\n",
       "      <td>Attacker</td>\n",
       "      <td>Nigeria</td>\n",
       "    </tr>\n",
       "    <tr>\n",
       "      <td>...</td>\n",
       "      <td>...</td>\n",
       "      <td>...</td>\n",
       "      <td>...</td>\n",
       "      <td>...</td>\n",
       "    </tr>\n",
       "    <tr>\n",
       "      <td>Janik Haberer</td>\n",
       "      <td>Germany</td>\n",
       "      <td>1</td>\n",
       "      <td>Midfielder</td>\n",
       "      <td>Germany</td>\n",
       "    </tr>\n",
       "    <tr>\n",
       "      <td>Soma Novothny</td>\n",
       "      <td>Hungary</td>\n",
       "      <td>1</td>\n",
       "      <td>Attacker</td>\n",
       "      <td>Hungary</td>\n",
       "    </tr>\n",
       "    <tr>\n",
       "      <td>Miloš Pantović</td>\n",
       "      <td>Serbia</td>\n",
       "      <td>1</td>\n",
       "      <td>Attacker</td>\n",
       "      <td>Germany</td>\n",
       "    </tr>\n",
       "    <tr>\n",
       "      <td>Grischa Prömel</td>\n",
       "      <td>Germany</td>\n",
       "      <td>1</td>\n",
       "      <td>Midfielder</td>\n",
       "      <td>Germany</td>\n",
       "    </tr>\n",
       "    <tr>\n",
       "      <td>Sebastian Rode</td>\n",
       "      <td>Germany</td>\n",
       "      <td>1</td>\n",
       "      <td>Midfielder</td>\n",
       "      <td>Germany</td>\n",
       "    </tr>\n",
       "  </tbody>\n",
       "</table>\n",
       "<p>139 rows × 4 columns</p>\n",
       "</div>"
      ],
      "text/plain": [
       "                       Nationality  Goals Scored    Position Country of Birth\n",
       "Scorer                                                                       \n",
       "Robert Lewandowski          Poland            13    Attacker           Poland\n",
       "Erling Haaland              Norway             9    Attacker          England\n",
       "Anthony Modeste             France             8    Attacker           France\n",
       "Patrik Schick       Czech Republic             8    Attacker   Czech Republic\n",
       "Taiwo Awoniyi              Nigeria             7    Attacker          Nigeria\n",
       "...                            ...           ...         ...              ...\n",
       "Janik Haberer              Germany             1  Midfielder          Germany\n",
       "Soma Novothny              Hungary             1    Attacker          Hungary\n",
       "Miloš Pantović              Serbia             1    Attacker          Germany\n",
       "Grischa Prömel             Germany             1  Midfielder          Germany\n",
       "Sebastian Rode             Germany             1  Midfielder          Germany\n",
       "\n",
       "[139 rows x 4 columns]"
      ]
     },
     "execution_count": 40,
     "metadata": {},
     "output_type": "execute_result"
    }
   ],
   "source": [
    "league_dfs['Bundesliga']['2021']"
   ]
  },
  {
   "cell_type": "markdown",
   "id": "designed-straight",
   "metadata": {},
   "source": [
    "The native_scorer_percentage function was then used to compute the percentage for each league season, and organised into its own dataframe in a sensible format. This final dataframe was then used to display a bar chart detailing the native scorers in each league across the last two seasons."
   ]
  },
  {
   "cell_type": "code",
   "execution_count": 42,
   "id": "trained-biology",
   "metadata": {},
   "outputs": [
    {
     "data": {
      "image/png": "[encoded data removed]",
      "text/plain": [
       "<Figure size 1080x432 with 1 Axes>"
      ]
     },
     "metadata": {
      "needs_background": "light"
     },
     "output_type": "display_data"
    }
   ],
   "source": [
    "def order_scorer_pctgs(league_names, league_dfs):\n",
    "    season_2020 = []\n",
    "    season_2021 = []\n",
    "    for league in league_names:\n",
    "        season_dfs = league_dfs[league]\n",
    "        for season in season_dfs:\n",
    "            percentage = native_scorer_percentage(season_dfs[season], league)\n",
    "            if season == '2020':\n",
    "                season_2020.append(percentage)\n",
    "            elif season == '2021':\n",
    "                season_2021.append(percentage)\n",
    "    df = pd.DataFrame({'2020/21': season_2020,\n",
    "                   '2021/22': season_2021}, index=league_names)\n",
    "    return df\n",
    "\n",
    "new_df = order_scorer_pctgs(leagues, league_dfs)\n",
    "\n",
    "fig, ax = plt.subplots(1, figsize=(15,6))\n",
    "ax.set_ylabel('Native Scorer %')\n",
    "axc = new_df.plot.bar(rot=0, ax=ax)"
   ]
  },
  {
   "cell_type": "markdown",
   "id": "assured-correspondence",
   "metadata": {},
   "source": [
    "This bar chart shows some interesting results, with the Portuguese Premiera Liga and the Premier League having the among the lowest native scorer percentages. It was thought that the relatively large percentages in the EFL Championship and Eredivise were due to the poorer quality of the respective leagues, while the high percentage in La Liga is likely due to certain clubs such as Athletic Bilbao having policies of only signing local players. The large increase in the number of Italian scorers in the Serie A was also noteworthy, and expected to be related to the performances of the promoted teams, and is discussed further in the next discussion.\n",
    "\n",
    "To examine this, the revenues of each league in millions of Euro, were taken from Wikipedia as a rough measure of the quality of each league, and added to the dataframe. These were then displayed on the same graph to see if there was any consistent relationship."
   ]
  },
  {
   "cell_type": "code",
   "execution_count": 66,
   "id": "endangered-screen",
   "metadata": {},
   "outputs": [
    {
     "data": {
      "image/png": "[encoded data removed]",
      "text/plain": [
       "<Figure size 1080x432 with 2 Axes>"
      ]
     },
     "metadata": {
      "needs_background": "light"
     },
     "output_type": "display_data"
    }
   ],
   "source": [
    "revenues = [3454, 5864, 885.7, 524, 2595, 578, 1892, 3344]\n",
    "new_df['Revenues'] = revenues\n",
    "\n",
    "fig, ax = plt.subplots(1, figsize=(15,6))\n",
    "ax1 = new_df['Revenues'].plot(secondary_y=True, ax=ax, c='purple', label='Revenue')\n",
    "ax2 = new_df[['2020/21', '2021/22']].plot(kind='bar', ax=ax, alpha=0.8)\n",
    "ax2.set_ylabel('Native Scorer %')\n",
    "ax1.set_ylabel('Revenue (€ mil)')\n",
    "\n",
    "ax1.tick_params(axis='y', colors='purple')\n",
    "ax1.yaxis.label.set_color('purple')"
   ]
  },
  {
   "cell_type": "markdown",
   "id": "incident-portland",
   "metadata": {},
   "source": [
    "As shown above, there doesn't appear to be any direct relationship between revenue and native scorer percentage. However, as this was only including the scorers in each league, a similar analysis was conducted for the entire player roster."
   ]
  },
  {
   "cell_type": "code",
   "execution_count": 105,
   "id": "impossible-pricing",
   "metadata": {},
   "outputs": [
    {
     "data": {
      "text/plain": [
       "44.77911646586345"
      ]
     },
     "execution_count": 105,
     "metadata": {},
     "output_type": "execute_result"
    }
   ],
   "source": [
    "roster_df = pd.read_csv(\"Raw Data/Squads/Bundesliga-players-2020.csv\", index_col=0)\n",
    "roster_df['Bool Col'] = pd.isna(roster_df['Nationality'])\n",
    "rows_to_remove = roster_df.index[roster_df['Bool Col']].tolist()\n",
    "roster_df = roster_df.drop(rows_to_remove)\n",
    "roster_df\n",
    "\n",
    "native_scorer_percentage(roster_df, 'Bundesliga')"
   ]
  },
  {
   "cell_type": "markdown",
   "id": "valid-police",
   "metadata": {},
   "source": [
    "As the nationalities of some players was not available from the API database, any players without a nationality value were removed from the dataframe, and the cleaned dataframe was saved in Processed Data:"
   ]
  },
  {
   "cell_type": "code",
   "execution_count": 119,
   "id": "toxic-congo",
   "metadata": {},
   "outputs": [],
   "source": [
    "raw_player_data = Path(\"Raw Data/Squads\")\n",
    "\n",
    "for filename in os.listdir(raw_player_data):\n",
    "    fpath = os.path.join(raw_player_data, filename)\n",
    "    roster_df = pd.read_csv(fpath, index_col=0)\n",
    "    roster_df['Bool Col'] = pd.isna(roster_df['Nationality'])\n",
    "    rows_to_remove = roster_df.index[roster_df['Bool Col']].tolist()\n",
    "    cleaned_df = roster_df.drop(rows_to_remove)\n",
    "    \n",
    "    processed_path = os.path.join(dir_data, 'Player Data', filename)\n",
    "    cleaned_df.to_csv(processed_path)"
   ]
  },
  {
   "cell_type": "code",
   "execution_count": 162,
   "id": "central-assignment",
   "metadata": {},
   "outputs": [],
   "source": [
    "cleaned_player_data = Path(\"Processed Data/Player Data\")\n",
    "league_roster_dfs = {}\n",
    "for league in leagues:\n",
    "    season_dfs = {}\n",
    "    for season in ['2020', '2021']:\n",
    "        for filename in os.listdir(cleaned_player_data):\n",
    "            if (league in filename) and (season in filename):\n",
    "                fpath = os.path.join(cleaned_player_data, filename)\n",
    "                players_df = pd.read_csv(fpath, index_col=0)\n",
    "                season_dfs[season] = players_df\n",
    "    league_roster_dfs[league] = season_dfs"
   ]
  },
  {
   "cell_type": "code",
   "execution_count": 172,
   "id": "damaged-composition",
   "metadata": {},
   "outputs": [
    {
     "data": {
      "text/html": [
       "<div>\n",
       "<style scoped>\n",
       "    .dataframe tbody tr th:only-of-type {\n",
       "        vertical-align: middle;\n",
       "    }\n",
       "\n",
       "    .dataframe tbody tr th {\n",
       "        vertical-align: top;\n",
       "    }\n",
       "\n",
       "    .dataframe thead th {\n",
       "        text-align: right;\n",
       "    }\n",
       "</style>\n",
       "<table border=\"1\" class=\"dataframe\">\n",
       "  <thead>\n",
       "    <tr style=\"text-align: right;\">\n",
       "      <th></th>\n",
       "      <th>Team</th>\n",
       "      <th>Position</th>\n",
       "      <th>Nationality</th>\n",
       "      <th>Country of Birth</th>\n",
       "      <th>Bool Col</th>\n",
       "    </tr>\n",
       "    <tr>\n",
       "      <th>Name</th>\n",
       "      <th></th>\n",
       "      <th></th>\n",
       "      <th></th>\n",
       "      <th></th>\n",
       "      <th></th>\n",
       "    </tr>\n",
       "  </thead>\n",
       "  <tbody>\n",
       "    <tr>\n",
       "      <td>Timo Horn</td>\n",
       "      <td>1. FC Köln</td>\n",
       "      <td>Goalkeeper</td>\n",
       "      <td>Germany</td>\n",
       "      <td>Germany</td>\n",
       "      <td>False</td>\n",
       "    </tr>\n",
       "    <tr>\n",
       "      <td>Jonas Hector</td>\n",
       "      <td>1. FC Köln</td>\n",
       "      <td>Defender</td>\n",
       "      <td>Germany</td>\n",
       "      <td>Germany</td>\n",
       "      <td>False</td>\n",
       "    </tr>\n",
       "    <tr>\n",
       "      <td>Jorge Meré</td>\n",
       "      <td>1. FC Köln</td>\n",
       "      <td>Defender</td>\n",
       "      <td>Spain</td>\n",
       "      <td>Spain</td>\n",
       "      <td>False</td>\n",
       "    </tr>\n",
       "    <tr>\n",
       "      <td>Jannes-Kilian Horn</td>\n",
       "      <td>1. FC Köln</td>\n",
       "      <td>Defender</td>\n",
       "      <td>Germany</td>\n",
       "      <td>Germany</td>\n",
       "      <td>False</td>\n",
       "    </tr>\n",
       "    <tr>\n",
       "      <td>Salih Özcan</td>\n",
       "      <td>1. FC Köln</td>\n",
       "      <td>Midfielder</td>\n",
       "      <td>Germany</td>\n",
       "      <td>Germany</td>\n",
       "      <td>False</td>\n",
       "    </tr>\n",
       "    <tr>\n",
       "      <td>...</td>\n",
       "      <td>...</td>\n",
       "      <td>...</td>\n",
       "      <td>...</td>\n",
       "      <td>...</td>\n",
       "      <td>...</td>\n",
       "    </tr>\n",
       "    <tr>\n",
       "      <td>Mohamed Simakan</td>\n",
       "      <td>RB Leipzig</td>\n",
       "      <td>Defender</td>\n",
       "      <td>France</td>\n",
       "      <td>France</td>\n",
       "      <td>False</td>\n",
       "    </tr>\n",
       "    <tr>\n",
       "      <td>Joško Gvardiol</td>\n",
       "      <td>RB Leipzig</td>\n",
       "      <td>Defender</td>\n",
       "      <td>Croatia</td>\n",
       "      <td>Croatia</td>\n",
       "      <td>False</td>\n",
       "    </tr>\n",
       "    <tr>\n",
       "      <td>Hugo Novoa</td>\n",
       "      <td>RB Leipzig</td>\n",
       "      <td>Midfielder</td>\n",
       "      <td>Spain</td>\n",
       "      <td>Spain</td>\n",
       "      <td>False</td>\n",
       "    </tr>\n",
       "    <tr>\n",
       "      <td>Joscha Wosz</td>\n",
       "      <td>RB Leipzig</td>\n",
       "      <td>Midfielder</td>\n",
       "      <td>Germany</td>\n",
       "      <td>Germany</td>\n",
       "      <td>False</td>\n",
       "    </tr>\n",
       "    <tr>\n",
       "      <td>Ilaix Moriba</td>\n",
       "      <td>RB Leipzig</td>\n",
       "      <td>Midfielder</td>\n",
       "      <td>Spain</td>\n",
       "      <td>Spain</td>\n",
       "      <td>False</td>\n",
       "    </tr>\n",
       "  </tbody>\n",
       "</table>\n",
       "<p>486 rows × 5 columns</p>\n",
       "</div>"
      ],
      "text/plain": [
       "                          Team    Position Nationality Country of Birth  \\\n",
       "Name                                                                      \n",
       "Timo Horn           1. FC Köln  Goalkeeper     Germany          Germany   \n",
       "Jonas Hector        1. FC Köln    Defender     Germany          Germany   \n",
       "Jorge Meré          1. FC Köln    Defender       Spain            Spain   \n",
       "Jannes-Kilian Horn  1. FC Köln    Defender     Germany          Germany   \n",
       "Salih Özcan         1. FC Köln  Midfielder     Germany          Germany   \n",
       "...                        ...         ...         ...              ...   \n",
       "Mohamed Simakan     RB Leipzig    Defender      France           France   \n",
       "Joško Gvardiol      RB Leipzig    Defender     Croatia          Croatia   \n",
       "Hugo Novoa          RB Leipzig  Midfielder       Spain            Spain   \n",
       "Joscha Wosz         RB Leipzig  Midfielder     Germany          Germany   \n",
       "Ilaix Moriba        RB Leipzig  Midfielder       Spain            Spain   \n",
       "\n",
       "                    Bool Col  \n",
       "Name                          \n",
       "Timo Horn              False  \n",
       "Jonas Hector           False  \n",
       "Jorge Meré             False  \n",
       "Jannes-Kilian Horn     False  \n",
       "Salih Özcan            False  \n",
       "...                      ...  \n",
       "Mohamed Simakan        False  \n",
       "Joško Gvardiol         False  \n",
       "Hugo Novoa             False  \n",
       "Joscha Wosz            False  \n",
       "Ilaix Moriba           False  \n",
       "\n",
       "[486 rows x 5 columns]"
      ]
     },
     "execution_count": 172,
     "metadata": {},
     "output_type": "execute_result"
    }
   ],
   "source": [
    "league_roster_dfs['Bundesliga']['2020']"
   ]
  },
  {
   "cell_type": "code",
   "execution_count": 164,
   "id": "hundred-recording",
   "metadata": {},
   "outputs": [
    {
     "data": {
      "image/png": "[encoded data removed]",
      "text/plain": [
       "<Figure size 1080x432 with 2 Axes>"
      ]
     },
     "metadata": {
      "needs_background": "light"
     },
     "output_type": "display_data"
    }
   ],
   "source": [
    "revenues = [3454, 5864, 885.7, 524, 2595, 578, 1892, 3344]\n",
    "player_pctg_df['Revenues'] = revenues\n",
    "\n",
    "fig, ax = plt.subplots(1, figsize=(15,6))\n",
    "ax1 = player_pctg_df['Revenues'].plot(secondary_y=True, ax=ax, c='purple', label='Revenue')\n",
    "ax2 = player_pctg_df[['2020/21', '2021/22']].plot(kind='bar', ax=ax, alpha=0.8)\n",
    "ax2.set_ylabel('Native Player %')\n",
    "ax1.set_ylabel('Revenue (€ mil)')\n",
    "\n",
    "ax1.tick_params(axis='y', colors='purple')\n",
    "ax1.yaxis.label.set_color('purple')"
   ]
  },
  {
   "cell_type": "markdown",
   "id": "raising-research",
   "metadata": {},
   "source": [
    "When considering the full roster of players in each league, it is noteworthy that the league with the lowest native players (Premier League) has the highest revenue, while the two leagues with the highest number of native players (EFL Championship and Eredivise) have two of the lowest revenues. This would suggest that there is some correlation between the wealth of a league and its native player percentage, however this would require further, more thorough analysis to determine with confidence. It should also be noted that the percentage drop between seasons is only significant for the Premier League, which could be investigated by comparing the squads of the promoted and relegated teams.\n",
    "\n",
    "The increase in Italian scorer percentage between the last two seasons is also not represented in this plot, indicating that it may be linked to the performance of the newly promoted teams which are more likely to have more native players."
   ]
  },
  {
   "cell_type": "markdown",
   "id": "gentle-redhead",
   "metadata": {},
   "source": [
    "## Analysis 2 - Prediction Model"
   ]
  },
  {
   "cell_type": "markdown",
   "id": "executed-local",
   "metadata": {},
   "source": [
    "This analysis utilises the saved results of all the Premier League teams from the 2020/21 season, to predict their performance this season using Poisson statistics in a similar manner to how betting odds are estimated.\n",
    "\n",
    "Firstly, the team names and API IDs for each were extracted from the saved teams data JSON file from the 2020 season:"
   ]
  },
  {
   "cell_type": "code",
   "execution_count": 135,
   "id": "frozen-copper",
   "metadata": {
    "scrolled": true
   },
   "outputs": [],
   "source": [
    "def get_team_ids(teams_response_dict):\n",
    "    teams_id_dict = {}\n",
    "    for team in teams_response_dict['teams']:\n",
    "        name = team['name']\n",
    "        id_ = team['id']\n",
    "        teams_id_dict[name] = id_\n",
    "    return teams_id_dict\n",
    "\n",
    "PL_teams = read_json_file('Raw Data/Team Data/PL-2020-teams.json')\n",
    "PL_ids = get_team_ids(PL_teams)"
   ]
  },
  {
   "cell_type": "markdown",
   "id": "expensive-joseph",
   "metadata": {},
   "source": [
    "This IDs dictionary was then used to parse the saved matches files and extract the goals scored and conceded by each team both at home and away:"
   ]
  },
  {
   "cell_type": "code",
   "execution_count": 142,
   "id": "specialized-words",
   "metadata": {},
   "outputs": [],
   "source": [
    "def get_goal_stats(match_dict, team_id, league_name):\n",
    "    home_scored = 0\n",
    "    away_scored = 0\n",
    "    home_conceded = 0\n",
    "    away_conceded = 0\n",
    "    match_no = 0\n",
    "    for match in match_dict['matches']:\n",
    "        if match['competition']['name'] == league_name:\n",
    "            match_no += 1\n",
    "            if match['homeTeam']['id'] == team_id:\n",
    "                home_scored += match['score']['fullTime']['homeTeam']\n",
    "                home_conceded += match['score']['fullTime']['awayTeam']\n",
    "            elif match['awayTeam']['id'] == team_id:\n",
    "                away_scored += match['score']['fullTime']['awayTeam']\n",
    "                away_conceded += match['score']['fullTime']['homeTeam']\n",
    "    \n",
    "    return [home_scored, away_scored, home_conceded, away_conceded, match_no]\n",
    "\n",
    "raw_results_data = Path(\"Raw Data/Matches\")\n",
    "\n",
    "def get_all_goal_stats(teams_ids_dict):\n",
    "    team_goals_dict = {}\n",
    "    for team in teams_ids_dict:\n",
    "        for filename in os.listdir(raw_results_data):\n",
    "            if team in filename:\n",
    "                fpath = os.path.join(raw_results_data, filename)\n",
    "                team_matches = read_json_file(fpath)\n",
    "                team_id = teams_ids_dict[team]\n",
    "                goal_stats = get_goal_stats(team_matches, team_id, 'Premier League')\n",
    "                team_goals_dict[team] = goal_stats\n",
    "    return team_goals_dict\n",
    "\n",
    "team_goals_dict = get_all_goal_stats(PL_ids)"
   ]
  },
  {
   "cell_type": "markdown",
   "id": "present-origin",
   "metadata": {},
   "source": [
    "This data was then converted to dataframe format with columns of home and away goals scored and conceded and saved to a csv file in the processed data directory:"
   ]
  },
  {
   "cell_type": "code",
   "execution_count": 141,
   "id": "appointed-example",
   "metadata": {},
   "outputs": [
    {
     "data": {
      "text/html": [
       "<div>\n",
       "<style scoped>\n",
       "    .dataframe tbody tr th:only-of-type {\n",
       "        vertical-align: middle;\n",
       "    }\n",
       "\n",
       "    .dataframe tbody tr th {\n",
       "        vertical-align: top;\n",
       "    }\n",
       "\n",
       "    .dataframe thead th {\n",
       "        text-align: right;\n",
       "    }\n",
       "</style>\n",
       "<table border=\"1\" class=\"dataframe\">\n",
       "  <thead>\n",
       "    <tr style=\"text-align: right;\">\n",
       "      <th></th>\n",
       "      <th>HGS</th>\n",
       "      <th>AGS</th>\n",
       "      <th>HGC</th>\n",
       "      <th>AGC</th>\n",
       "      <th>Matches</th>\n",
       "    </tr>\n",
       "  </thead>\n",
       "  <tbody>\n",
       "    <tr>\n",
       "      <td>Arsenal FC</td>\n",
       "      <td>24</td>\n",
       "      <td>31</td>\n",
       "      <td>21</td>\n",
       "      <td>18</td>\n",
       "      <td>38</td>\n",
       "    </tr>\n",
       "    <tr>\n",
       "      <td>Aston Villa FC</td>\n",
       "      <td>29</td>\n",
       "      <td>26</td>\n",
       "      <td>27</td>\n",
       "      <td>19</td>\n",
       "      <td>38</td>\n",
       "    </tr>\n",
       "    <tr>\n",
       "      <td>Chelsea FC</td>\n",
       "      <td>31</td>\n",
       "      <td>27</td>\n",
       "      <td>18</td>\n",
       "      <td>18</td>\n",
       "      <td>38</td>\n",
       "    </tr>\n",
       "    <tr>\n",
       "      <td>Everton FC</td>\n",
       "      <td>24</td>\n",
       "      <td>23</td>\n",
       "      <td>28</td>\n",
       "      <td>20</td>\n",
       "      <td>38</td>\n",
       "    </tr>\n",
       "    <tr>\n",
       "      <td>Fulham FC</td>\n",
       "      <td>9</td>\n",
       "      <td>18</td>\n",
       "      <td>28</td>\n",
       "      <td>25</td>\n",
       "      <td>38</td>\n",
       "    </tr>\n",
       "    <tr>\n",
       "      <td>Liverpool FC</td>\n",
       "      <td>29</td>\n",
       "      <td>39</td>\n",
       "      <td>20</td>\n",
       "      <td>22</td>\n",
       "      <td>38</td>\n",
       "    </tr>\n",
       "    <tr>\n",
       "      <td>Manchester City FC</td>\n",
       "      <td>43</td>\n",
       "      <td>40</td>\n",
       "      <td>17</td>\n",
       "      <td>15</td>\n",
       "      <td>38</td>\n",
       "    </tr>\n",
       "    <tr>\n",
       "      <td>Manchester United FC</td>\n",
       "      <td>38</td>\n",
       "      <td>35</td>\n",
       "      <td>28</td>\n",
       "      <td>16</td>\n",
       "      <td>38</td>\n",
       "    </tr>\n",
       "    <tr>\n",
       "      <td>Newcastle United FC</td>\n",
       "      <td>26</td>\n",
       "      <td>20</td>\n",
       "      <td>33</td>\n",
       "      <td>29</td>\n",
       "      <td>38</td>\n",
       "    </tr>\n",
       "    <tr>\n",
       "      <td>Tottenham Hotspur FC</td>\n",
       "      <td>35</td>\n",
       "      <td>33</td>\n",
       "      <td>20</td>\n",
       "      <td>25</td>\n",
       "      <td>38</td>\n",
       "    </tr>\n",
       "    <tr>\n",
       "      <td>West Bromwich Albion FC</td>\n",
       "      <td>15</td>\n",
       "      <td>20</td>\n",
       "      <td>39</td>\n",
       "      <td>37</td>\n",
       "      <td>38</td>\n",
       "    </tr>\n",
       "    <tr>\n",
       "      <td>Wolverhampton Wanderers FC</td>\n",
       "      <td>21</td>\n",
       "      <td>15</td>\n",
       "      <td>25</td>\n",
       "      <td>27</td>\n",
       "      <td>38</td>\n",
       "    </tr>\n",
       "    <tr>\n",
       "      <td>Burnley FC</td>\n",
       "      <td>14</td>\n",
       "      <td>19</td>\n",
       "      <td>27</td>\n",
       "      <td>28</td>\n",
       "      <td>38</td>\n",
       "    </tr>\n",
       "    <tr>\n",
       "      <td>Leicester City FC</td>\n",
       "      <td>34</td>\n",
       "      <td>34</td>\n",
       "      <td>30</td>\n",
       "      <td>20</td>\n",
       "      <td>38</td>\n",
       "    </tr>\n",
       "    <tr>\n",
       "      <td>Southampton FC</td>\n",
       "      <td>28</td>\n",
       "      <td>19</td>\n",
       "      <td>25</td>\n",
       "      <td>43</td>\n",
       "      <td>38</td>\n",
       "    </tr>\n",
       "    <tr>\n",
       "      <td>Leeds United FC</td>\n",
       "      <td>28</td>\n",
       "      <td>34</td>\n",
       "      <td>21</td>\n",
       "      <td>33</td>\n",
       "      <td>38</td>\n",
       "    </tr>\n",
       "    <tr>\n",
       "      <td>Crystal Palace FC</td>\n",
       "      <td>20</td>\n",
       "      <td>21</td>\n",
       "      <td>32</td>\n",
       "      <td>34</td>\n",
       "      <td>38</td>\n",
       "    </tr>\n",
       "    <tr>\n",
       "      <td>Sheffield United FC</td>\n",
       "      <td>12</td>\n",
       "      <td>8</td>\n",
       "      <td>27</td>\n",
       "      <td>36</td>\n",
       "      <td>38</td>\n",
       "    </tr>\n",
       "    <tr>\n",
       "      <td>Brighton &amp; Hove Albion FC</td>\n",
       "      <td>22</td>\n",
       "      <td>18</td>\n",
       "      <td>22</td>\n",
       "      <td>24</td>\n",
       "      <td>38</td>\n",
       "    </tr>\n",
       "    <tr>\n",
       "      <td>West Ham United FC</td>\n",
       "      <td>32</td>\n",
       "      <td>30</td>\n",
       "      <td>22</td>\n",
       "      <td>25</td>\n",
       "      <td>38</td>\n",
       "    </tr>\n",
       "  </tbody>\n",
       "</table>\n",
       "</div>"
      ],
      "text/plain": [
       "                            HGS  AGS  HGC  AGC  Matches\n",
       "Arsenal FC                   24   31   21   18       38\n",
       "Aston Villa FC               29   26   27   19       38\n",
       "Chelsea FC                   31   27   18   18       38\n",
       "Everton FC                   24   23   28   20       38\n",
       "Fulham FC                     9   18   28   25       38\n",
       "Liverpool FC                 29   39   20   22       38\n",
       "Manchester City FC           43   40   17   15       38\n",
       "Manchester United FC         38   35   28   16       38\n",
       "Newcastle United FC          26   20   33   29       38\n",
       "Tottenham Hotspur FC         35   33   20   25       38\n",
       "West Bromwich Albion FC      15   20   39   37       38\n",
       "Wolverhampton Wanderers FC   21   15   25   27       38\n",
       "Burnley FC                   14   19   27   28       38\n",
       "Leicester City FC            34   34   30   20       38\n",
       "Southampton FC               28   19   25   43       38\n",
       "Leeds United FC              28   34   21   33       38\n",
       "Crystal Palace FC            20   21   32   34       38\n",
       "Sheffield United FC          12    8   27   36       38\n",
       "Brighton & Hove Albion FC    22   18   22   24       38\n",
       "West Ham United FC           32   30   22   25       38"
      ]
     },
     "execution_count": 141,
     "metadata": {},
     "output_type": "execute_result"
    }
   ],
   "source": [
    "teams_df = pd.DataFrame.from_dict(team_goals_dict, orient='index',\n",
    "                       columns=['HGS', 'AGS',\n",
    "                                'HGC', 'AGC', 'Matches'])\n",
    "teams_df.to_csv(dir_data / 'PL_Team_Data.csv')\n",
    "teams_df"
   ]
  },
  {
   "cell_type": "markdown",
   "id": "portable-mobility",
   "metadata": {},
   "source": [
    "The calculations for the prediction model is outlined below:\n",
    "\n",
    "Four parameters are required to predict the result of a game between two teams:\n",
    "- The Home and Away Attacking strengths of the respective home and away teams\n",
    "- The Home and Away Defensive strengths of the respective home and away teams"
   ]
  },
  {
   "cell_type": "markdown",
   "id": "continued-kingdom",
   "metadata": {},
   "source": [
    "**Home Attacking strength** is defined as :\n",
    "\n",
    "- Home team's average goals per home game / average home goals per game\n",
    "\n",
    "While the **Away Attacking strength** is calculated in the same way.\n",
    "\n",
    "**Home Defensive Strength** is defined as:\n",
    "\n",
    "- Home team's average goals conceded per home game / number of home games played.\n",
    "\n",
    "While the **Away Defensive strength** is calculated in a similar way."
   ]
  },
  {
   "cell_type": "markdown",
   "id": "differential-antenna",
   "metadata": {},
   "source": [
    "The match scoreline may then be predicted in the following way:\n",
    "\n",
    "**Expected Home Goals:**\n",
    "\n",
    "- Home team attack strength * away team defence strength * average number of home goals\n",
    "\n",
    "**Expected Away Goals:**\n",
    "\n",
    "- Away team attack strength * home team defence strength * average number of away goals"
   ]
  },
  {
   "cell_type": "markdown",
   "id": "abroad-archives",
   "metadata": {},
   "source": [
    "Therefore, the average stats for the Premier League are extracted from the saved teams data csv file using the following function:"
   ]
  },
  {
   "cell_type": "code",
   "execution_count": 143,
   "id": "palestinian-challenge",
   "metadata": {},
   "outputs": [
    {
     "data": {
      "text/plain": [
       "{'HGS': 1.3526315789473684,\n",
       " 'AGS': 1.3421052631578947,\n",
       " 'HGC': 1.3421052631578947,\n",
       " 'AGC': 1.3526315789473684}"
      ]
     },
     "execution_count": 143,
     "metadata": {},
     "output_type": "execute_result"
    }
   ],
   "source": [
    "teams_df = pd.read_csv('PL_Team_Data.csv', index_col='Team')\n",
    "\n",
    "def average_stats(team_df):\n",
    "    tot_matches = sum(team_df['Matches'])/2 #total matches /2 as each team plays each other\n",
    "    avg_hgs = sum(team_df['HGS'])/(tot_matches)\n",
    "    avg_ags = sum(team_df['AGS'])/(tot_matches)\n",
    "    avg_hgc = sum(team_df['HGC'])/(tot_matches)\n",
    "    avg_agc = sum(team_df['AGC'])/(tot_matches)\n",
    "    \n",
    "    avg_stats = {'HGS' : avg_hgs,\n",
    "                'AGS' : avg_ags,\n",
    "                'HGC' : avg_hgc,\n",
    "                'AGC' : avg_agc}\n",
    "    return avg_stats\n",
    "\n",
    "average_stats(teams_df)"
   ]
  },
  {
   "cell_type": "markdown",
   "id": "gothic-humidity",
   "metadata": {},
   "source": [
    "The above definitions of attack and defence strength are hence used in conjunction with the average values to predict the expected scoreline between two specified teams using the following function:"
   ]
  },
  {
   "cell_type": "code",
   "execution_count": 146,
   "id": "restricted-syndication",
   "metadata": {},
   "outputs": [],
   "source": [
    "def exp_goals(team_df, home_team, away_team):\n",
    "    home_team_stats = team_df.loc[home_team]\n",
    "    away_team_stats = team_df.loc[away_team]\n",
    "    \n",
    "    avg_season_stats = average_stats(team_df)\n",
    "    \n",
    "    #Number of home and away games is 19 per team\n",
    "    home_att_strength = (home_team_stats['HGS']/19)/avg_season_stats['HGS']\n",
    "    home_def_strength = (home_team_stats['HGC']/19)/avg_season_stats['HGC']\n",
    "    \n",
    "    away_att_strength = (away_team_stats['AGS']/19)/avg_season_stats['AGS']\n",
    "    away_def_strength = (away_team_stats['AGC']/19)/avg_season_stats['AGC']\n",
    "    \n",
    "    exp_home_goals = home_att_strength*away_def_strength*avg_season_stats['HGS']\n",
    "    exp_away_goals = away_att_strength*home_def_strength*avg_season_stats['AGS']\n",
    "    \n",
    "    score = [exp_home_goals, exp_away_goals]\n",
    "    return score"
   ]
  },
  {
   "cell_type": "markdown",
   "id": "timely-heading",
   "metadata": {},
   "source": [
    "Once the expected scoreline is obtained, the probabilitites of each specific scoreline may then be estimated using the Poisson probability mass function, imported from seaborn, with the expected home or away goals as mean values. The following function was written to calculate the probabilities for the home and away goals up to a specified goal value:"
   ]
  },
  {
   "cell_type": "code",
   "execution_count": 144,
   "id": "deadly-metropolitan",
   "metadata": {},
   "outputs": [],
   "source": [
    "def calculate_score_probs(max_goals, exp_home_goals, exp_away_goals):\n",
    "    home_goal_probs = []\n",
    "    away_goal_probs = []\n",
    "    for goal in range(max_goals+1):\n",
    "        home_goal_probs.append(poisson.pmf(goal, exp_home_goals))\n",
    "        away_goal_probs.append(poisson.pmf(goal, exp_away_goals))\n",
    "                               \n",
    "    score_probs = []\n",
    "    for home_goal in range(max_goals+1):\n",
    "        probs = []\n",
    "        for away_goal in range(max_goals+1):\n",
    "            result_prob = (home_goal_probs[home_goal] * away_goal_probs[away_goal])*100\n",
    "            probs.append(result_prob)\n",
    "        score_probs.append(probs)\n",
    "    return score_probs"
   ]
  },
  {
   "cell_type": "markdown",
   "id": "wired-scene",
   "metadata": {},
   "source": [
    "We can display these score probabiilities on a heatmap. Below is such an example, outlining the scoreline probabilities for when Arsenal (home) play Manchester City (away):"
   ]
  },
  {
   "cell_type": "code",
   "execution_count": 153,
   "id": "twenty-coordinator",
   "metadata": {},
   "outputs": [
    {
     "data": {
      "text/plain": [
       "<matplotlib.axes._subplots.AxesSubplot at 0x1ae5d448940>"
      ]
     },
     "execution_count": 153,
     "metadata": {},
     "output_type": "execute_result"
    },
    {
     "data": {
      "image/png": "[encoded data removed]",
      "text/plain": [
       "<Figure size 432x288 with 2 Axes>"
      ]
     },
     "metadata": {
      "needs_background": "light"
     },
     "output_type": "display_data"
    }
   ],
   "source": [
    "city_arsenal_score = exp_goals(teams_df, 'Arsenal FC', 'Manchester City FC')\n",
    "exp_scores = calculate_score_probs(5, *city_arsenal_score)\n",
    "\n",
    "fig, ax = plt.subplots(1)\n",
    "def score_heatmap(data, home_name, away_name, ax):\n",
    "    ax = sns.heatmap(data, linewidth=0.5, cmap='Blues', cbar_kws={'label': 'Probability %'}, ax=ax)\n",
    "    ax.set_ylim(6, 0)\n",
    "    ax.set_ylabel('Home Goals: %s' % home_name)\n",
    "    ax.set_xlabel('Away Goals: %s' % away_name)\n",
    "    return ax\n",
    "score_heatmap(exp_scores, 'Arsenal', 'Man City', ax)"
   ]
  },
  {
   "cell_type": "markdown",
   "id": "filled-banana",
   "metadata": {},
   "source": [
    "This shows that the most likely outcome, according to this model is for City to win by a score of 0-1 and appears to be around 13%. "
   ]
  },
  {
   "cell_type": "markdown",
   "id": "ready-population",
   "metadata": {},
   "source": [
    "We can display the specific probability values in a table, marking the results leading to a home win as Red, an away win as cyan, and a draw as white:"
   ]
  },
  {
   "cell_type": "code",
   "execution_count": 155,
   "id": "enclosed-joyce",
   "metadata": {},
   "outputs": [
    {
     "data": {
      "text/html": [
       "<style  type=\"text/css\" >\n",
       "    #T_d569fc6c_42fc_11ec_b87b_bc8385060522row0_col0 {\n",
       "            background-color:  white;\n",
       "        }    #T_d569fc6c_42fc_11ec_b87b_bc8385060522row0_col1 {\n",
       "            background-color:  cyan;\n",
       "        }    #T_d569fc6c_42fc_11ec_b87b_bc8385060522row0_col2 {\n",
       "            background-color:  cyan;\n",
       "        }    #T_d569fc6c_42fc_11ec_b87b_bc8385060522row0_col3 {\n",
       "            background-color:  cyan;\n",
       "        }    #T_d569fc6c_42fc_11ec_b87b_bc8385060522row0_col4 {\n",
       "            background-color:  cyan;\n",
       "        }    #T_d569fc6c_42fc_11ec_b87b_bc8385060522row0_col5 {\n",
       "            background-color:  cyan;\n",
       "        }    #T_d569fc6c_42fc_11ec_b87b_bc8385060522row1_col0 {\n",
       "            background-color:  red;\n",
       "        }    #T_d569fc6c_42fc_11ec_b87b_bc8385060522row1_col1 {\n",
       "            background-color:  white;\n",
       "        }    #T_d569fc6c_42fc_11ec_b87b_bc8385060522row1_col2 {\n",
       "            background-color:  cyan;\n",
       "        }    #T_d569fc6c_42fc_11ec_b87b_bc8385060522row1_col3 {\n",
       "            background-color:  cyan;\n",
       "        }    #T_d569fc6c_42fc_11ec_b87b_bc8385060522row1_col4 {\n",
       "            background-color:  cyan;\n",
       "        }    #T_d569fc6c_42fc_11ec_b87b_bc8385060522row1_col5 {\n",
       "            background-color:  cyan;\n",
       "        }    #T_d569fc6c_42fc_11ec_b87b_bc8385060522row2_col0 {\n",
       "            background-color:  red;\n",
       "        }    #T_d569fc6c_42fc_11ec_b87b_bc8385060522row2_col1 {\n",
       "            background-color:  red;\n",
       "        }    #T_d569fc6c_42fc_11ec_b87b_bc8385060522row2_col2 {\n",
       "            background-color:  white;\n",
       "        }    #T_d569fc6c_42fc_11ec_b87b_bc8385060522row2_col3 {\n",
       "            background-color:  cyan;\n",
       "        }    #T_d569fc6c_42fc_11ec_b87b_bc8385060522row2_col4 {\n",
       "            background-color:  cyan;\n",
       "        }    #T_d569fc6c_42fc_11ec_b87b_bc8385060522row2_col5 {\n",
       "            background-color:  cyan;\n",
       "        }    #T_d569fc6c_42fc_11ec_b87b_bc8385060522row3_col0 {\n",
       "            background-color:  red;\n",
       "        }    #T_d569fc6c_42fc_11ec_b87b_bc8385060522row3_col1 {\n",
       "            background-color:  red;\n",
       "        }    #T_d569fc6c_42fc_11ec_b87b_bc8385060522row3_col2 {\n",
       "            background-color:  red;\n",
       "        }    #T_d569fc6c_42fc_11ec_b87b_bc8385060522row3_col3 {\n",
       "            background-color:  white;\n",
       "        }    #T_d569fc6c_42fc_11ec_b87b_bc8385060522row3_col4 {\n",
       "            background-color:  cyan;\n",
       "        }    #T_d569fc6c_42fc_11ec_b87b_bc8385060522row3_col5 {\n",
       "            background-color:  cyan;\n",
       "        }    #T_d569fc6c_42fc_11ec_b87b_bc8385060522row4_col0 {\n",
       "            background-color:  red;\n",
       "        }    #T_d569fc6c_42fc_11ec_b87b_bc8385060522row4_col1 {\n",
       "            background-color:  red;\n",
       "        }    #T_d569fc6c_42fc_11ec_b87b_bc8385060522row4_col2 {\n",
       "            background-color:  red;\n",
       "        }    #T_d569fc6c_42fc_11ec_b87b_bc8385060522row4_col3 {\n",
       "            background-color:  red;\n",
       "        }    #T_d569fc6c_42fc_11ec_b87b_bc8385060522row4_col4 {\n",
       "            background-color:  white;\n",
       "        }    #T_d569fc6c_42fc_11ec_b87b_bc8385060522row4_col5 {\n",
       "            background-color:  cyan;\n",
       "        }    #T_d569fc6c_42fc_11ec_b87b_bc8385060522row5_col0 {\n",
       "            background-color:  red;\n",
       "        }    #T_d569fc6c_42fc_11ec_b87b_bc8385060522row5_col1 {\n",
       "            background-color:  red;\n",
       "        }    #T_d569fc6c_42fc_11ec_b87b_bc8385060522row5_col2 {\n",
       "            background-color:  red;\n",
       "        }    #T_d569fc6c_42fc_11ec_b87b_bc8385060522row5_col3 {\n",
       "            background-color:  red;\n",
       "        }    #T_d569fc6c_42fc_11ec_b87b_bc8385060522row5_col4 {\n",
       "            background-color:  red;\n",
       "        }    #T_d569fc6c_42fc_11ec_b87b_bc8385060522row5_col5 {\n",
       "            background-color:  white;\n",
       "        }</style><table id=\"T_d569fc6c_42fc_11ec_b87b_bc8385060522\" ><thead>    <tr>        <th class=\"blank level0\" ></th>        <th class=\"col_heading level0 col0\" colspan=6>City Goals</th>    </tr>    <tr>        <th class=\"blank level1\" ></th>        <th class=\"col_heading level1 col0\" >0</th>        <th class=\"col_heading level1 col1\" >1</th>        <th class=\"col_heading level1 col2\" >2</th>        <th class=\"col_heading level1 col3\" >3</th>        <th class=\"col_heading level1 col4\" >4</th>        <th class=\"col_heading level1 col5\" >5</th>    </tr>    <tr>        <th class=\"index_name level0\" >Arsenal Goals</th>        <th class=\"blank\" ></th>        <th class=\"blank\" ></th>        <th class=\"blank\" ></th>        <th class=\"blank\" ></th>        <th class=\"blank\" ></th>        <th class=\"blank\" ></th>    </tr></thead><tbody>\n",
       "                <tr>\n",
       "                        <th id=\"T_d569fc6c_42fc_11ec_b87b_bc8385060522level0_row0\" class=\"row_heading level0 row0\" >0</th>\n",
       "                        <td id=\"T_d569fc6c_42fc_11ec_b87b_bc8385060522row0_col0\" class=\"data row0 col0\" >8.45005</td>\n",
       "                        <td id=\"T_d569fc6c_42fc_11ec_b87b_bc8385060522row0_col1\" class=\"data row0 col1\" >14.6502</td>\n",
       "                        <td id=\"T_d569fc6c_42fc_11ec_b87b_bc8385060522row0_col2\" class=\"data row0 col2\" >12.6999</td>\n",
       "                        <td id=\"T_d569fc6c_42fc_11ec_b87b_bc8385060522row0_col3\" class=\"data row0 col3\" >7.33947</td>\n",
       "                        <td id=\"T_d569fc6c_42fc_11ec_b87b_bc8385060522row0_col4\" class=\"data row0 col4\" >3.18119</td>\n",
       "                        <td id=\"T_d569fc6c_42fc_11ec_b87b_bc8385060522row0_col5\" class=\"data row0 col5\" >1.10308</td>\n",
       "            </tr>\n",
       "            <tr>\n",
       "                        <th id=\"T_d569fc6c_42fc_11ec_b87b_bc8385060522level0_row1\" class=\"row_heading level0 row1\" >1</th>\n",
       "                        <td id=\"T_d569fc6c_42fc_11ec_b87b_bc8385060522row1_col0\" class=\"data row1 col0\" >6.22981</td>\n",
       "                        <td id=\"T_d569fc6c_42fc_11ec_b87b_bc8385060522row1_col1\" class=\"data row1 col1\" >10.8009</td>\n",
       "                        <td id=\"T_d569fc6c_42fc_11ec_b87b_bc8385060522row1_col2\" class=\"data row1 col2\" >9.36302</td>\n",
       "                        <td id=\"T_d569fc6c_42fc_11ec_b87b_bc8385060522row1_col3\" class=\"data row1 col3\" >5.41103</td>\n",
       "                        <td id=\"T_d569fc6c_42fc_11ec_b87b_bc8385060522row1_col4\" class=\"data row1 col4\" >2.34534</td>\n",
       "                        <td id=\"T_d569fc6c_42fc_11ec_b87b_bc8385060522row1_col5\" class=\"data row1 col5\" >0.813245</td>\n",
       "            </tr>\n",
       "            <tr>\n",
       "                        <th id=\"T_d569fc6c_42fc_11ec_b87b_bc8385060522level0_row2\" class=\"row_heading level0 row2\" >2</th>\n",
       "                        <td id=\"T_d569fc6c_42fc_11ec_b87b_bc8385060522row2_col0\" class=\"data row2 col0\" >2.29647</td>\n",
       "                        <td id=\"T_d569fc6c_42fc_11ec_b87b_bc8385060522row2_col1\" class=\"data row2 col1\" >3.9815</td>\n",
       "                        <td id=\"T_d569fc6c_42fc_11ec_b87b_bc8385060522row2_col2\" class=\"data row2 col2\" >3.45145</td>\n",
       "                        <td id=\"T_d569fc6c_42fc_11ec_b87b_bc8385060522row2_col3\" class=\"data row2 col3\" >1.99465</td>\n",
       "                        <td id=\"T_d569fc6c_42fc_11ec_b87b_bc8385060522row2_col4\" class=\"data row2 col4\" >0.864553</td>\n",
       "                        <td id=\"T_d569fc6c_42fc_11ec_b87b_bc8385060522row2_col5\" class=\"data row2 col5\" >0.299783</td>\n",
       "            </tr>\n",
       "            <tr>\n",
       "                        <th id=\"T_d569fc6c_42fc_11ec_b87b_bc8385060522level0_row3\" class=\"row_heading level0 row3\" >3</th>\n",
       "                        <td id=\"T_d569fc6c_42fc_11ec_b87b_bc8385060522row3_col0\" class=\"data row3 col0\" >0.564359</td>\n",
       "                        <td id=\"T_d569fc6c_42fc_11ec_b87b_bc8385060522row3_col1\" class=\"data row3 col1\" >0.978455</td>\n",
       "                        <td id=\"T_d569fc6c_42fc_11ec_b87b_bc8385060522row3_col2\" class=\"data row3 col2\" >0.848196</td>\n",
       "                        <td id=\"T_d569fc6c_42fc_11ec_b87b_bc8385060522row3_col3\" class=\"data row3 col3\" >0.490186</td>\n",
       "                        <td id=\"T_d569fc6c_42fc_11ec_b87b_bc8385060522row3_col4\" class=\"data row3 col4\" >0.212464</td>\n",
       "                        <td id=\"T_d569fc6c_42fc_11ec_b87b_bc8385060522row3_col5\" class=\"data row3 col5\" >0.0736719</td>\n",
       "            </tr>\n",
       "            <tr>\n",
       "                        <th id=\"T_d569fc6c_42fc_11ec_b87b_bc8385060522level0_row4\" class=\"row_heading level0 row4\" >4</th>\n",
       "                        <td id=\"T_d569fc6c_42fc_11ec_b87b_bc8385060522row4_col0\" class=\"data row4 col0\" >0.104019</td>\n",
       "                        <td id=\"T_d569fc6c_42fc_11ec_b87b_bc8385060522row4_col1\" class=\"data row4 col1\" >0.180342</td>\n",
       "                        <td id=\"T_d569fc6c_42fc_11ec_b87b_bc8385060522row4_col2\" class=\"data row4 col2\" >0.156334</td>\n",
       "                        <td id=\"T_d569fc6c_42fc_11ec_b87b_bc8385060522row4_col3\" class=\"data row4 col3\" >0.0903476</td>\n",
       "                        <td id=\"T_d569fc6c_42fc_11ec_b87b_bc8385060522row4_col4\" class=\"data row4 col4\" >0.0391599</td>\n",
       "                        <td id=\"T_d569fc6c_42fc_11ec_b87b_bc8385060522row4_col5\" class=\"data row4 col5\" >0.0135787</td>\n",
       "            </tr>\n",
       "            <tr>\n",
       "                        <th id=\"T_d569fc6c_42fc_11ec_b87b_bc8385060522level0_row5\" class=\"row_heading level0 row5\" >5</th>\n",
       "                        <td id=\"T_d569fc6c_42fc_11ec_b87b_bc8385060522row5_col0\" class=\"data row5 col0\" >0.0153376</td>\n",
       "                        <td id=\"T_d569fc6c_42fc_11ec_b87b_bc8385060522row5_col1\" class=\"data row5 col1\" >0.0265915</td>\n",
       "                        <td id=\"T_d569fc6c_42fc_11ec_b87b_bc8385060522row5_col2\" class=\"data row5 col2\" >0.0230514</td>\n",
       "                        <td id=\"T_d569fc6c_42fc_11ec_b87b_bc8385060522row5_col3\" class=\"data row5 col3\" >0.0133218</td>\n",
       "                        <td id=\"T_d569fc6c_42fc_11ec_b87b_bc8385060522row5_col4\" class=\"data row5 col4\" >0.00577415</td>\n",
       "                        <td id=\"T_d569fc6c_42fc_11ec_b87b_bc8385060522row5_col5\" class=\"data row5 col5\" >0.00200218</td>\n",
       "            </tr>\n",
       "    </tbody></table>"
      ],
      "text/plain": [
       "<pandas.io.formats.style.Styler at 0x1ae5d198a20>"
      ]
     },
     "execution_count": 155,
     "metadata": {},
     "output_type": "execute_result"
    }
   ],
   "source": [
    "def colour_code(df):\n",
    "    \"\"\"Function to colour the cells in a dataframe by results\"\"\"\n",
    "    a = np.full(df.shape, '', dtype='<U24')\n",
    "    for row in range(0,df.shape[0]):\n",
    "        for column in range(0,df.shape[1]):\n",
    "            if row > column:\n",
    "                a[row][column] = 'background-color: red'\n",
    "            elif column > row:\n",
    "                a[row][column] = 'background-color: cyan'\n",
    "            elif row == column:\n",
    "                a[row][column] = 'background-color: white'\n",
    "    return pd.DataFrame(a, index=df.index, columns=df.columns)\n",
    "\n",
    "def display_as_table(score_probs, home_name, away_name):\n",
    "    goals_list = ['0', '1', '2', '3', '4', '5']\n",
    "    df = pd.DataFrame(score_probs ,index=pd.Index(goals_list, name='%s Goals' % home_name),\n",
    "                      columns=pd.MultiIndex.from_product([['%s Goals' % away_name], goals_list]))\n",
    "    \n",
    "    return df.style.apply(colour_code, axis=None)\n",
    "\n",
    "display_as_table(exp_scores, 'Arsenal', 'City')"
   ]
  },
  {
   "cell_type": "markdown",
   "id": "temporal-belfast",
   "metadata": {},
   "source": [
    "Therefore, if we add up the probabilities for each corresponding result, we can find the individual probabilities for an Arsenal win, City win and a draw:"
   ]
  },
  {
   "cell_type": "code",
   "execution_count": 161,
   "id": "worst-thread",
   "metadata": {},
   "outputs": [
    {
     "name": "stdout",
     "output_type": "stream",
     "text": [
      "Percentage Prob. of Arsenal Win: 15.513908823666176\n",
      "Percentage Prob. of City Win: 60.3652190670266\n",
      "Percentage Prob. of Draw: 23.233765358326252\n"
     ]
    }
   ],
   "source": [
    "def compute_result_probs(score_probs):\n",
    "    home_win_prob = 0\n",
    "    away_win_prob = 0\n",
    "    draw_prob = 0\n",
    "    for home_goal_val in range(len(score_probs)):\n",
    "        for away_goal_val in range(len(score_probs)):\n",
    "            if home_goal_val > away_goal_val:\n",
    "                home_win_prob += score_probs[home_goal_val][away_goal_val]\n",
    "            elif away_goal_val > home_goal_val:\n",
    "                away_win_prob += score_probs[home_goal_val][away_goal_val]\n",
    "            elif away_goal_val == home_goal_val:\n",
    "                draw_prob += score_probs[home_goal_val][away_goal_val]\n",
    "    return [home_win_prob, away_win_prob, draw_prob]\n",
    "\n",
    "result_probs = compute_result_probs(exp_scores)\n",
    "print('Percentage Prob. of Arsenal Win: %s' % str(result_probs[0]))\n",
    "print('Percentage Prob. of City Win: %s' % str(result_probs[1]))\n",
    "print('Percentage Prob. of Draw: %s' % str(result_probs[2]))"
   ]
  },
  {
   "cell_type": "markdown",
   "id": "authorized-valuable",
   "metadata": {},
   "source": [
    "Hence we can see that an away win for Manchester City is far more likely that Arsenal getting any points, which makes sense considering Manchester City were the league champions last year!"
   ]
  },
  {
   "cell_type": "markdown",
   "id": "cordless-bahrain",
   "metadata": {},
   "source": [
    "We can examine how well the model performs, considering the most recent round of Premier League fixtures this season. The matchday dictionary was read in as a dictionary from the Raw Data directory and the relevant goals and teams for each fixture were isolated into a csv file which was saved to the Processed directory:"
   ]
  },
  {
   "cell_type": "code",
   "execution_count": 165,
   "id": "identical-surveillance",
   "metadata": {},
   "outputs": [],
   "source": [
    "matchday_dictionary = read_json_file('Raw Data/PL_Matchday1_fixtures.json')\n",
    "\n",
    "def extract_teams(matchday_dict):\n",
    "    comp = matchday_dict['competition']['code']\n",
    "    matchday_no = matchday_dict['filters']['matchday']\n",
    "    matches = matchday_dict['matches']\n",
    "    home_teams = []\n",
    "    away_teams = []\n",
    "    home_gls = []\n",
    "    away_gls = []\n",
    "    for fixture in matches:\n",
    "        home_teams.append(fixture['homeTeam']['name'])\n",
    "        away_teams.append(fixture['awayTeam']['name'])\n",
    "        home_gls.append(fixture['score']['fullTime']['homeTeam'])\n",
    "        away_gls.append(fixture['score']['fullTime']['awayTeam'])\n",
    "        \n",
    "    fixtures = {'Home' : home_teams,\n",
    "                'Home Gls' : home_gls,\n",
    "                'Away' : away_teams,\n",
    "                'Away Gls' : away_gls}\n",
    "    df = pd.DataFrame.from_dict(fixtures)\n",
    "    \n",
    "    file_path = 'Processed Data/%s Matchday %s Fixtures.csv' % (comp, matchday_no)\n",
    "    df.to_csv(file_path)\n",
    "    return df\n",
    "\n",
    "teams = extract_teams(matchday_dictionary)"
   ]
  },
  {
   "cell_type": "markdown",
   "id": "settled-washington",
   "metadata": {},
   "source": [
    "This csv file was then read back in to Python as a dataframe as shown below:"
   ]
  },
  {
   "cell_type": "code",
   "execution_count": 170,
   "id": "painful-albany",
   "metadata": {},
   "outputs": [
    {
     "data": {
      "text/html": [
       "<div>\n",
       "<style scoped>\n",
       "    .dataframe tbody tr th:only-of-type {\n",
       "        vertical-align: middle;\n",
       "    }\n",
       "\n",
       "    .dataframe tbody tr th {\n",
       "        vertical-align: top;\n",
       "    }\n",
       "\n",
       "    .dataframe thead th {\n",
       "        text-align: right;\n",
       "    }\n",
       "</style>\n",
       "<table border=\"1\" class=\"dataframe\">\n",
       "  <thead>\n",
       "    <tr style=\"text-align: right;\">\n",
       "      <th></th>\n",
       "      <th>Home</th>\n",
       "      <th>Home Gls</th>\n",
       "      <th>Away</th>\n",
       "      <th>Away Gls</th>\n",
       "    </tr>\n",
       "  </thead>\n",
       "  <tbody>\n",
       "    <tr>\n",
       "      <td>0</td>\n",
       "      <td>Brentford FC</td>\n",
       "      <td>2</td>\n",
       "      <td>Arsenal FC</td>\n",
       "      <td>0</td>\n",
       "    </tr>\n",
       "    <tr>\n",
       "      <td>1</td>\n",
       "      <td>Manchester United FC</td>\n",
       "      <td>5</td>\n",
       "      <td>Leeds United FC</td>\n",
       "      <td>1</td>\n",
       "    </tr>\n",
       "    <tr>\n",
       "      <td>2</td>\n",
       "      <td>Watford FC</td>\n",
       "      <td>3</td>\n",
       "      <td>Aston Villa FC</td>\n",
       "      <td>2</td>\n",
       "    </tr>\n",
       "    <tr>\n",
       "      <td>3</td>\n",
       "      <td>Leicester City FC</td>\n",
       "      <td>1</td>\n",
       "      <td>Wolverhampton Wanderers FC</td>\n",
       "      <td>0</td>\n",
       "    </tr>\n",
       "    <tr>\n",
       "      <td>4</td>\n",
       "      <td>Everton FC</td>\n",
       "      <td>3</td>\n",
       "      <td>Southampton FC</td>\n",
       "      <td>1</td>\n",
       "    </tr>\n",
       "    <tr>\n",
       "      <td>5</td>\n",
       "      <td>Chelsea FC</td>\n",
       "      <td>3</td>\n",
       "      <td>Crystal Palace FC</td>\n",
       "      <td>0</td>\n",
       "    </tr>\n",
       "    <tr>\n",
       "      <td>6</td>\n",
       "      <td>Burnley FC</td>\n",
       "      <td>1</td>\n",
       "      <td>Brighton &amp; Hove Albion FC</td>\n",
       "      <td>2</td>\n",
       "    </tr>\n",
       "    <tr>\n",
       "      <td>7</td>\n",
       "      <td>Norwich City FC</td>\n",
       "      <td>0</td>\n",
       "      <td>Liverpool FC</td>\n",
       "      <td>3</td>\n",
       "    </tr>\n",
       "    <tr>\n",
       "      <td>8</td>\n",
       "      <td>Newcastle United FC</td>\n",
       "      <td>2</td>\n",
       "      <td>West Ham United FC</td>\n",
       "      <td>4</td>\n",
       "    </tr>\n",
       "    <tr>\n",
       "      <td>9</td>\n",
       "      <td>Tottenham Hotspur FC</td>\n",
       "      <td>1</td>\n",
       "      <td>Manchester City FC</td>\n",
       "      <td>0</td>\n",
       "    </tr>\n",
       "  </tbody>\n",
       "</table>\n",
       "</div>"
      ],
      "text/plain": [
       "                   Home  Home Gls                        Away  Away Gls\n",
       "0          Brentford FC         2                  Arsenal FC         0\n",
       "1  Manchester United FC         5             Leeds United FC         1\n",
       "2            Watford FC         3              Aston Villa FC         2\n",
       "3     Leicester City FC         1  Wolverhampton Wanderers FC         0\n",
       "4            Everton FC         3              Southampton FC         1\n",
       "5            Chelsea FC         3           Crystal Palace FC         0\n",
       "6            Burnley FC         1   Brighton & Hove Albion FC         2\n",
       "7       Norwich City FC         0                Liverpool FC         3\n",
       "8   Newcastle United FC         2          West Ham United FC         4\n",
       "9  Tottenham Hotspur FC         1          Manchester City FC         0"
      ]
     },
     "execution_count": 170,
     "metadata": {},
     "output_type": "execute_result"
    }
   ],
   "source": [
    "matchday1_df = pd.read_csv('Processed Data/PL Matchday 1 Fixtures.csv', index_col=0)\n",
    "matchday1_df"
   ]
  },
  {
   "cell_type": "markdown",
   "id": "leading-loading",
   "metadata": {},
   "source": [
    "Using this data, heatmaps of result possibilities were produced for each fixture, with the actual result highlighted by a red X. This allows us to briefly asses the model's performance on a single matchday."
   ]
  },
  {
   "cell_type": "markdown",
   "id": "insured-prospect",
   "metadata": {},
   "source": [
    "It should be noted that the results for the newly promoted teams could be taken from their championship games last season, which are available on the API. However, as these were in a lower division, they would not be representative of their chances against the stronger teams in the Premier League, and their winning percentages would be inflated. Therefore, results featuring these teams are excluded from this plot. \n",
    "\n",
    "Possible further analysis could include devising a relationship between a team's results in the championship and their results upon promotion to the Premier League, or alternatively a promoted team could simply be mapped to a corresponding relegated team from the season prior, assuming that they are of a similar quality."
   ]
  },
  {
   "cell_type": "code",
   "execution_count": 171,
   "id": "excited-monte",
   "metadata": {
    "scrolled": false
   },
   "outputs": [
    {
     "data": {
      "text/plain": [
       "array([<matplotlib.axes._subplots.AxesSubplot object at 0x000001AE5D7B8588>,\n",
       "       <matplotlib.axes._subplots.AxesSubplot object at 0x000001AE5D7F8DD8>,\n",
       "       <matplotlib.axes._subplots.AxesSubplot object at 0x000001AE5D826EF0>,\n",
       "       <matplotlib.axes._subplots.AxesSubplot object at 0x000001AE5D862048>,\n",
       "       <matplotlib.axes._subplots.AxesSubplot object at 0x000001AE5D7D39B0>,\n",
       "       <matplotlib.axes._subplots.AxesSubplot object at 0x000001AE5D8A7630>,\n",
       "       <matplotlib.axes._subplots.AxesSubplot object at 0x000001AE5DA27748>,\n",
       "       <matplotlib.axes._subplots.AxesSubplot object at 0x000001AE5DA5A828>],\n",
       "      dtype=object)"
      ]
     },
     "execution_count": 171,
     "metadata": {},
     "output_type": "execute_result"
    },
    {
     "data": {
      "image/png": "[encoded data removed]",
      "text/plain": [
       "<Figure size 576x1152 with 15 Axes>"
      ]
     },
     "metadata": {
      "needs_background": "light"
     },
     "output_type": "display_data"
    }
   ],
   "source": [
    "def results_plots(matchday_df, team_df):\n",
    "    fig, axs = plt.subplots(4,2, figsize=(8, 16))\n",
    "    fig.tight_layout()\n",
    "    axs = axs.ravel()\n",
    "    home_teams = matchday_df['Home']\n",
    "    away_teams = matchday_df['Away']\n",
    "    home_gls = matchday_df['Home Gls']\n",
    "    away_gls = matchday_df['Away Gls']\n",
    "    \n",
    "    promoted_teams = ['Brentford FC', 'Watford FC', 'Norwich City FC']\n",
    "    ax_index = 0\n",
    "    for index in range(len(home_teams)):\n",
    "        home = home_teams[index]\n",
    "        away = away_teams[index]\n",
    "        if (home not in promoted_teams) and (away not in promoted_teams):\n",
    "            expected_score = exp_goals(team_df, home, away)\n",
    "            score_probs = calculate_score_probs(5, *expected_score)\n",
    "            axs[ax_index] = score_heatmap(score_probs, home, away, axs[ax_index])\n",
    "            axs[ax_index].plot(away_gls[index]+0.5, home_gls[index]+0.5, 'rx', markersize=15)\n",
    "            ax_index += 1\n",
    "    plt.subplots_adjust(left=None, bottom=None, right=None, top=None, wspace=0.4, hspace=0.4)\n",
    "    return axs\n",
    "\n",
    "results_plots(matchday1_df, teams_df)"
   ]
  },
  {
   "cell_type": "markdown",
   "id": "refined-donna",
   "metadata": {},
   "source": [
    "As we can see, only in the case of the Leicester vs Wolverhampton match did the most likely predicted result occur. I had planned to examine the performace of the model over a longer period, say, using it to produce a team's points probability over a certain number of games, but unfortunately I ran out of time. This would definitely be the first further investigation to perform if this analysis was to be built upon."
   ]
  },
  {
   "cell_type": "markdown",
   "id": "satellite-light",
   "metadata": {},
   "source": [
    "## Conclusions:\n",
    "\n",
    "In this assignment, two pieces of analysis were conducted relating to a study of the percentages of native players in 8 European football leagues, and a brief prediction model for the scoreline probabilities between two Premier League teams.\n",
    "\n",
    "One challenge of using the Football-Data API is that the request URL for various different resources are very specific, and so a wide range of request functions were used in Task 1 to acquire all the data required for both analyses.\n",
    "\n",
    "For **Analysis 1** the native player and scorer percentages across the leagues was investigated, with less wealthy leagues such as the Dutch Eredivise and EFL Championship having relatively higher native players, with the wealthiest Premeir League having the lowest. Data for a larger range of seasons was behind a pay-wall so further analysis could definitiely target getting similar data over a much broader time-frame, where the trends of native player percentages could be investigated. It would be interesting to examine for example, if Brexit has had an effect in the number of foreign players in both the Premier League or Championship, and perhaps if this has lead to other clubs retaining more native players due to stricter work-permit requirements when selling to England.\n",
    "\n",
    "For **Analysis 2** a rough prediction model was written to estimate the result probability between two teams in the Premier League using data from the 2020/21 season. This was used to display the probabilities and actual scores of the first round of matches from the current season. The model appeared to give an ok representation of the results, however it could easily be expanded on in a number of ways. For example, the model could be tested over an entire season to give a probability distribution for the total points a team will accrue over that season. As this is based on the performace of a team last season, this would give an indication of which teams have improved and which have regressed over time. The model also did not include probabilities for matches involving promoted teams, and devising a method to incorporate these teams, without using their performances in the Championship, into the model would be a clear improvement."
   ]
  }
 ],
 "metadata": {
  "kernelspec": {
   "display_name": "Python 3",
   "language": "python",
   "name": "python3"
  },
  "language_info": {
   "codemirror_mode": {
    "name": "ipython",
    "version": 3
   },
   "file_extension": ".py",
   "mimetype": "text/x-python",
   "name": "python",
   "nbconvert_exporter": "python",
   "pygments_lexer": "ipython3",
   "version": "3.6.13"
  }
 },
 "nbformat": 4,
 "nbformat_minor": 5
}
