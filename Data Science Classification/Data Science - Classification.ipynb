{
 "cells": [
  {
   "cell_type": "markdown",
   "metadata": {},
   "source": [
    "## COMP47670: Assignment 2"
   ]
  },
  {
   "cell_type": "markdown",
   "metadata": {},
   "source": [
    "**Name:** Stefan Manek\n",
    "\n",
    "**Student No:** 17379451"
   ]
  },
  {
   "cell_type": "code",
   "execution_count": 1,
   "metadata": {},
   "outputs": [],
   "source": [
    "#Importing libraries\n",
    "import urllib.request\n",
    "from bs4 import BeautifulSoup\n",
    "import json\n",
    "import numpy as np\n",
    "import pandas as pd\n",
    "import matplotlib.pyplot as plt"
   ]
  },
  {
   "cell_type": "markdown",
   "metadata": {},
   "source": [
    "### Task 1: Data Collection"
   ]
  },
  {
   "cell_type": "markdown",
   "metadata": {},
   "source": [
    "First task was to collect data on newspaper articles from the 12 months of 2020. For each article, the title, text snippet summarising its contents, and its news category were to be saved and stored locally in an appropriate format.\n",
    "\n",
    "Firstly, various functions were written to aid in the parsing of the html of the given webpage and extract the required information."
   ]
  },
  {
   "cell_type": "code",
   "execution_count": 2,
   "metadata": {},
   "outputs": [],
   "source": [
    "def get_raw_html(link):\n",
    "    \"\"\"Function returns html code from webpage link\"\"\"\n",
    "    response = urllib.request.urlopen(link)\n",
    "    html = response.read().decode()\n",
    "    return html\n",
    "\n",
    "def get_months(soup):\n",
    "    \"\"\"Input: Soup of main webpage\n",
    "    \n",
    "    Output: List of month link urls\"\"\"\n",
    "    links = []\n",
    "    month_list = soup.find_all(\"a\", {\"class\":'list-group-item list-group-item-action'})\n",
    "    for month in month_list:\n",
    "        month_link = month['href']\n",
    "        links.append(month_link)\n",
    "    return links\n",
    "\n",
    "def find_page_numbers(month_soup):\n",
    "    \"\"\"Returns number of pages in month archive\"\"\"\n",
    "    pages = month_soup.find('h4').text.split(' ')[-1]\n",
    "    return pages.zfill(2)\n",
    "\n",
    "def new_month_str(month_str, page_num):\n",
    "    \"\"\"Returns month link with updated page number\"\"\"\n",
    "    page_num = page_num.zfill(2)\n",
    "    parts = month_str.split('-')\n",
    "    num_part = parts[2]\n",
    "    num_parts = list(num_part)\n",
    "    \n",
    "    num_parts[1:3] = page_num[:2]\n",
    "    num_part = ''.join(num_parts)\n",
    "    return '-'.join([parts[0], parts[1], num_part])\n",
    "\n",
    "def find_category(article_soup):\n",
    "    \"\"\"Extracts category from all articles on specific page\"\"\"\n",
    "    possible_entries = article_soup.find_all('p', class_='metadata')\n",
    "    for entry in possible_entries:\n",
    "        if 'Category' in entry.text:\n",
    "            category_string = entry.text\n",
    "            #Removing 'Category: ' from string\n",
    "            category = category_string.split(':')[-1].strip()\n",
    "    return category\n",
    "\n",
    "def extract_data(article_soup):\n",
    "    \"\"\"Input: soup from specific article\n",
    "    \n",
    "    Ouput: dictionary containing title, category and snippet from article\"\"\"\n",
    "    title = article_soup.find('a').text\n",
    "    snippet = article_soup.find('p', class_='snippet').text\n",
    "    category = find_category(article_soup)\n",
    "    return {'Title' :title,\n",
    "            'Snippet' : snippet,\n",
    "            'Category' : category}"
   ]
  },
  {
   "cell_type": "markdown",
   "metadata": {},
   "source": [
    "Using the above functions; each month, as well as all the given pages in each month were parsed, with the title, snippet and category for each article extracted and placed in a dictionary. These dictionaries were saved in list format to store all the required article details."
   ]
  },
  {
   "cell_type": "code",
   "execution_count": 3,
   "metadata": {},
   "outputs": [
    {
     "name": "stdout",
     "output_type": "stream",
     "text": [
     ]
    },
    {
     "name": "stdout",
     "output_type": "stream",
     "text": [
      ]
     },
     "execution_count": 5,
     "metadata": {},
     "output_type": "execute_result"
    }
   ],
   "source": [
    "def save_json(data, filename):\n",
    "    \"\"\"Simple function to save data in JSON format\"\"\"\n",
    "    out_file = open(filename, \"w\")\n",
    "\n",
    "    json.dump(data, out_file, indent = 6)\n",
    "\n",
    "    out_file.close()\n",
    "    return data\n",
    "\n",
    "save_json(article_details, 'news_data.json')"
   ]
  },
  {
   "cell_type": "markdown",
   "metadata": {},
   "source": [
    "### Task 2: Binary Text Classification"
   ]
  },
  {
   "cell_type": "markdown",
   "metadata": {},
   "source": [
    "The saved data from the data collection step is read in from its saved JSON file."
   ]
  },
  {
   "cell_type": "code",
   "execution_count": 6,
   "metadata": {},
   "outputs": [],
   "source": [
    "def read_json(filename):\n",
    "    \"\"\"Simple function to retrieve data saved in JSON format\"\"\"\n",
    "    f = open(filename)\n",
    "    data = json.load(f)\n",
    "    f.close()\n",
    "    return data\n",
    "\n",
    "news_data = read_json('news_data.json')"
   ]
  },
  {
   "cell_type": "markdown",
   "metadata": {},
   "source": [
    "The three news categories to perform the analysis were chosen to be **UK-News**, **US-News**, and **Sport**. As this task was to perform binary classification, the three possible category pairs were analysed individually. \n",
    "\n",
    "For all the articles in each category pair, the text in the title and snippet were combined in lower case and saved as the document, with their categories saved as targets using the functions below:"
   ]
  },
  {
   "cell_type": "code",
   "execution_count": 7,
   "metadata": {},
   "outputs": [],
   "source": [
    "def concatentate_strings(str1, str2):\n",
    "    full_string = (str1 + ' ' + str2).lower()\n",
    "    return full_string\n",
    "\n",
    "def extract_relevant_articles(data, category0, category1):\n",
    "    targets = []\n",
    "    documents = []\n",
    "    for article in data:\n",
    "        if article['Category'] in [category0, category1]:\n",
    "            documents.append(concatentate_strings(article['Title'], article['Snippet']))\n",
    "            targets.append(article['Category'])\n",
    "    return np.array(targets), documents"
   ]
  },
  {
   "cell_type": "markdown",
   "metadata": {},
   "source": [
    "### Initial Analysis"
   ]
  },
  {
   "cell_type": "markdown",
   "metadata": {},
   "source": [
    "The first pair chosen was **UK-** and **US-News**, where their target and document values were saved in arrays below:"
   ]
  },
  {
   "cell_type": "code",
   "execution_count": 8,
   "metadata": {},
   "outputs": [],
   "source": [
    "target, docs = extract_relevant_articles(news_data, 'UK-News', 'US-News')"
   ]
  },
  {
   "cell_type": "markdown",
   "metadata": {},
   "source": [
    "The relevant functions and modules from Scikit-learn were imported for the analysis:"
   ]
  },
  {
   "cell_type": "code",
   "execution_count": 9,
   "metadata": {},
   "outputs": [],
   "source": [
    "#Importing modules:\n",
    "from sklearn.feature_extraction.text import CountVectorizer, TfidfTransformer, TfidfVectorizer\n",
    "from sklearn.neighbors import KNeighborsClassifier\n",
    "from sklearn.metrics import accuracy_score, confusion_matrix, ConfusionMatrixDisplay, classification_report\n",
    "\n",
    "from nltk.stem import WordNetLemmatizer\n",
    "\n",
    "from sklearn.model_selection import cross_val_score, RepeatedKFold\n",
    "from sklearn.model_selection import train_test_split\n",
    "\n",
    "%matplotlib inline"
   ]
  },
  {
   "cell_type": "markdown",
   "metadata": {},
   "source": [
    "In order to evaluate the performance of the classification model, the extracted documents were split into training and testing sets using the train_test_split function, where the test size was set to 10%:"
   ]
  },
  {
   "cell_type": "code",
   "execution_count": 10,
   "metadata": {},
   "outputs": [],
   "source": [
    "train_docs, test_docs, train_target, test_target = train_test_split(docs, target, test_size=0.1)"
   ]
  },
  {
   "cell_type": "code",
   "execution_count": 11,
   "metadata": {},
   "outputs": [],
   "source": [
    "target_names = list(np.unique(train_target))"
   ]
  },
  {
   "cell_type": "markdown",
   "metadata": {},
   "source": [
    "The next step in the process was to create a document-term matrix for the two selected categories, which was done using the simple CountVectorizer function, which was used to filter out common English stop-words and also tokens which appeared in fewer than 10 documents. The number of unique terms is also displayed below:"
   ]
  },
  {
   "cell_type": "code",
   "execution_count": 12,
   "metadata": {},
   "outputs": [
    {
     "name": "stdout",
     "output_type": "stream",
     "text": [
      "Training documents contain 1279 distinct terms\n"
     ]
    }
   ],
   "source": [
    "vectorizer = CountVectorizer(stop_words=\"english\",min_df = 10)\n",
    "D_T_matrix = vectorizer.fit_transform(train_docs)\n",
    "\n",
    "terms = vectorizer.get_feature_names()\n",
    "print(\"Training documents contain %d distinct terms\" % len(terms))"
   ]
  },
  {
   "cell_type": "markdown",
   "metadata": {},
   "source": [
    "The 15 highest occurring terms from the matrix are displayed below:"
   ]
  },
  {
   "cell_type": "code",
   "execution_count": 15,
   "metadata": {},
   "outputs": [
    {
     "name": "stdout",
     "output_type": "stream",
     "text": [
      "1. trump = 1114\n",
      "2. summary = 617\n",
      "3. police = 530\n",
      "4. donald = 503\n",
      "5. coronavirus = 487\n",
      "6. new = 393\n",
      "7. uk = 386\n",
      "8. covid = 369\n",
      "9. biden = 362\n",
      "10. people = 283\n",
      "11. man = 262\n",
      "12. year = 250\n",
      "13. 19 = 249\n",
      "14. joe = 248\n",
      "15. election = 242\n"
     ]
    }
   ],
   "source": [
    "#Frequencies of each term in the matrix:\n",
    "freqs = D_T_matrix.sum(axis=0)\n",
    "\n",
    "#Sort by highest term frequency\n",
    "sorted_term_indices = freqs.argsort()\n",
    "sorted_term_indices = sorted_term_indices[0, ::-1]\n",
    "\n",
    "#Print 15 highest terms including their frequency\n",
    "for i in range(15):\n",
    "    term_index = sorted_term_indices[0,i]\n",
    "    print(\"%d. %s = %.0f\" % ((i+1), terms[term_index], freqs[0,term_index] ))"
   ]
  },
  {
   "cell_type": "markdown",
   "metadata": {},
   "source": [
    "A k-Nearest Neighbour model was then created to classify the withheld testing set, with k chosen as 3. The model was fittted using the training set. A term-frequency matrix for the testing data was found using vectorizer.transform to keep the preprocessing steps consistent. A prediction for the news categories of each of the test data was then made using the model, with the accuracy of the prediction displayed below:\n"
   ]
  },
  {
   "cell_type": "code",
   "execution_count": 16,
   "metadata": {},
   "outputs": [
    {
     "name": "stdout",
     "output_type": "stream",
     "text": [
      "Classification accuracy = 0.8227\n"
     ]
    }
   ],
   "source": [
    "model = KNeighborsClassifier(n_neighbors=3)\n",
    "model.fit(D_T_matrix, train_target)\n",
    "\n",
    "test_matrix = vectorizer.transform(test_docs)\n",
    "\n",
    "#Classifying test data using the defined model:\n",
    "predicted = model.predict(test_matrix)\n",
    "\n",
    "acc = accuracy_score(test_target, predicted)\n",
    "print(\"Classification accuracy = %.4f\" % acc)"
   ]
  },
  {
   "cell_type": "markdown",
   "metadata": {},
   "source": [
    "An accuracy of roughly 80% was achieved using this model (varying based on random training-test assignment). A confusion matrix was plotted to see where the model was less accurate:"
   ]
  },
  {
   "cell_type": "code",
   "execution_count": 17,
   "metadata": {},
   "outputs": [
    {
     "data": {
      "text/plain": [
       "<sklearn.metrics._plot.confusion_matrix.ConfusionMatrixDisplay at 0x212e212d820>"
      ]
     },
     "execution_count": 17,
     "metadata": {},
     "output_type": "execute_result"
    },
    {
     "data": {
      "image/png": "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\n",
      "text/plain": [
       "<Figure size 432x288 with 2 Axes>"
      ]
     },
     "metadata": {
      "needs_background": "light"
     },
     "output_type": "display_data"
    }
   ],
   "source": [
    "def plot_cm(test_targets, predicted_data):\n",
    "    cm = confusion_matrix(test_targets, predicted_data)\n",
    "    cmd = ConfusionMatrixDisplay(cm, display_labels=list(np.unique(test_targets)))\n",
    "    cmd.plot();\n",
    "    return cmd\n",
    "    \n",
    "plot_cm(test_target, predicted)"
   ]
  },
  {
   "cell_type": "markdown",
   "metadata": {},
   "source": [
    "As shown in the confusion matrix, the majority of the incorrect classifications were in the identification of US-News as UK-News, rather than the other way arround. This is also highlighted in the classification report below:"
   ]
  },
  {
   "cell_type": "code",
   "execution_count": 18,
   "metadata": {},
   "outputs": [
    {
     "name": "stdout",
     "output_type": "stream",
     "text": [
      "              precision    recall  f1-score   support\n",
      "\n",
      "     UK-News       0.77      0.93      0.84       181\n",
      "     US-News       0.91      0.72      0.80       180\n",
      "\n",
      "    accuracy                           0.82       361\n",
      "   macro avg       0.84      0.82      0.82       361\n",
      "weighted avg       0.84      0.82      0.82       361\n",
      "\n"
     ]
    }
   ],
   "source": [
    "print(classification_report(test_target, predicted, target_names=target_names))"
   ]
  },
  {
   "cell_type": "markdown",
   "metadata": {},
   "source": [
    "In order to investigate whether the tweaking of parts of the classification model could improve its performance, a pipeline was constructed. Certain additions to the model were made, including a lemmatizer imported from NLTK, and TF-IDF weighting using the TfidfTransformer function. A lemma tokenizer was first defined:"
   ]
  },
  {
   "cell_type": "code",
   "execution_count": 19,
   "metadata": {},
   "outputs": [],
   "source": [
    "from nltk.stem import WordNetLemmatizer\n",
    "\n",
    "def lemma_tokenizer(document):\n",
    "    standard_tokenizer = CountVectorizer().build_tokenizer()\n",
    "    all_tokens = standard_tokenizer(document)\n",
    "\n",
    "    lemmatizer = WordNetLemmatizer()\n",
    "    lemma_tokens = []\n",
    "    \n",
    "    for token in all_tokens:\n",
    "        lemma_tokens.append(lemmatizer.lemmatize(token))\n",
    "        \n",
    "    return lemma_tokens"
   ]
  },
  {
   "cell_type": "markdown",
   "metadata": {},
   "source": [
    "The binary classification pipeline was then constructed and used to run the predictions using the same test and training sets as before:"
   ]
  },
  {
   "cell_type": "code",
   "execution_count": 20,
   "metadata": {},
   "outputs": [
    {
     "name": "stdout",
     "output_type": "stream",
     "text": [
      "Classification accuracy = 0.8837\n"
     ]
    }
   ],
   "source": [
    "from sklearn.pipeline import Pipeline\n",
    "\n",
    "binary_pipeline = Pipeline([\n",
    "    ('vec', CountVectorizer(min_df=10, tokenizer=lemma_tokenizer)),\n",
    "    ('tfidf', TfidfTransformer()),\n",
    "    ('clf', KNeighborsClassifier(n_neighbors=3))\n",
    "])\n",
    "\n",
    "\n",
    "binary_pipeline.fit(train_docs, train_target)\n",
    "predicted = binary_pipeline.predict(test_docs)\n",
    "print(\"Classification accuracy = %.4f\" % accuracy_score(test_target, predicted))"
   ]
  },
  {
   "cell_type": "markdown",
   "metadata": {},
   "source": [
    "A higher classification accuracy was achieved, with the large fraction of incorrectly identified UK-News articles no longer as prominent, as shown in the confusion matrix below:"
   ]
  },
  {
   "cell_type": "code",
   "execution_count": 21,
   "metadata": {},
   "outputs": [
    {
     "data": {
      "text/plain": [
       "<sklearn.metrics._plot.confusion_matrix.ConfusionMatrixDisplay at 0x212e7163400>"
      ]
     },
     "execution_count": 21,
     "metadata": {},
     "output_type": "execute_result"
    },
    {
     "data": {
      "image/png": "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\n",
      "text/plain": [
       "<Figure size 432x288 with 2 Axes>"
      ]
     },
     "metadata": {
      "needs_background": "light"
     },
     "output_type": "display_data"
    }
   ],
   "source": [
    "plot_cm(test_target, predicted)"
   ]
  },
  {
   "cell_type": "markdown",
   "metadata": {},
   "source": [
    "Finally, the accuracy of the model when using different training and test ratios was also investigated."
   ]
  },
  {
   "cell_type": "code",
   "execution_count": 22,
   "metadata": {},
   "outputs": [],
   "source": [
    "def classify_accuracy(train_docs, test_docs, train_target, test_target, ratio):\n",
    "    binary_pipeline.fit(train_docs, train_target)\n",
    "    predicted = binary_pipeline.predict(test_docs)\n",
    "    cmd = plot_cm(test_target, predicted)\n",
    "    \n",
    "    accuracy = accuracy_score(test_target, predicted)\n",
    "    cmd.ax_.set_title('test size =%s, accuracy = %.4f' % (str(ratio), accuracy))\n",
    "    return accuracy"
   ]
  },
  {
   "cell_type": "code",
   "execution_count": 36,
   "metadata": {
    "scrolled": false
   },
   "outputs": [
    {
     "data": {
      "image/png": "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\n",
      "text/plain": [
       "<Figure size 432x288 with 2 Axes>"
      ]
     },
     "metadata": {
      "needs_background": "light"
     },
     "output_type": "display_data"
    },
    {
     "data": {
      "image/png": "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\n",
      "text/plain": [
       "<Figure size 432x288 with 2 Axes>"
      ]
     },
     "metadata": {
      "needs_background": "light"
     },
     "output_type": "display_data"
    },
    {
     "data": {
      "image/png": "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\n",
      "text/plain": [
       "<Figure size 432x288 with 2 Axes>"
      ]
     },
     "metadata": {
      "needs_background": "light"
     },
     "output_type": "display_data"
    },
    {
     "data": {
      "image/png": "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\n",
      "text/plain": [
       "<Figure size 432x288 with 2 Axes>"
      ]
     },
     "metadata": {
      "needs_background": "light"
     },
     "output_type": "display_data"
    },
    {
     "data": {
      "image/png": "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\n",
      "text/plain": [
       "<Figure size 432x288 with 2 Axes>"
      ]
     },
     "metadata": {
      "needs_background": "light"
     },
     "output_type": "display_data"
    },
    {
     "data": {
      "image/png": "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\n",
      "text/plain": [
       "<Figure size 432x288 with 2 Axes>"
      ]
     },
     "metadata": {
      "needs_background": "light"
     },
     "output_type": "display_data"
    },
    {
     "data": {
      "image/png": "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\n",
      "text/plain": [
       "<Figure size 432x288 with 2 Axes>"
      ]
     },
     "metadata": {
      "needs_background": "light"
     },
     "output_type": "display_data"
    },
    {
     "data": {
      "image/png": "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\n",
      "text/plain": [
       "<Figure size 432x288 with 2 Axes>"
      ]
     },
     "metadata": {
      "needs_background": "light"
     },
     "output_type": "display_data"
    },
    {
     "data": {
      "image/png": "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\n",
      "text/plain": [
       "<Figure size 432x288 with 2 Axes>"
      ]
     },
     "metadata": {
      "needs_background": "light"
     },
     "output_type": "display_data"
    }
   ],
   "source": [
    "target, docs = extract_relevant_articles(news_data, 'UK-News', 'US-News')\n",
    "\n",
    "accuracies = []\n",
    "test_train_ratios = np.round(np.linspace(0.1,0.9,9),1)\n",
    "for ratio in test_train_ratios:\n",
    "    train_docs, test_docs, train_target, test_target = train_test_split(docs, target, test_size=ratio)\n",
    "    accuracy = classify_accuracy(train_docs, test_docs, train_target, test_target, ratio)\n",
    "    accuracies.append(accuracy)"
   ]
  },
  {
   "cell_type": "markdown",
   "metadata": {},
   "source": [
    "The accuracy of the classification model was generally unchanged up to a ratio of 0.6, as shown below, where the accuracy decreased slightly. A ratio of 0.2 was hence chosen for the remaining anlysis."
   ]
  },
  {
   "cell_type": "code",
   "execution_count": 37,
   "metadata": {},
   "outputs": [
    {
     "data": {
      "text/plain": [
       "Text(0.5, 0, 'Test-Train Set Ratio')"
      ]
     },
     "execution_count": 37,
     "metadata": {},
     "output_type": "execute_result"
    },
    {
     "data": {
      "image/png": "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\n",
      "text/plain": [
       "<Figure size 432x288 with 1 Axes>"
      ]
     },
     "metadata": {
      "needs_background": "light"
     },
     "output_type": "display_data"
    }
   ],
   "source": [
    "plt.plot(test_train_ratios, accuracies)\n",
    "plt.ylabel('Classification Accuracy')\n",
    "plt.xlabel('Test-Train Set Ratio')"
   ]
  },
  {
   "cell_type": "markdown",
   "metadata": {},
   "source": [
    "The final investigation invloved the use of Cross Validation, where the entire dataset is split into a certain number, k, of 'folds', where k-1 folds are used as training data, and the remainder is used the test set, with the process repeated k times.\n",
    "\n",
    "This was performed for k=5, conserving the 0.2 ratio mentioned above. The accuracies are displayed below, a the mean accuracy of just over 85%."
   ]
  },
  {
   "cell_type": "code",
   "execution_count": 38,
   "metadata": {},
   "outputs": [
    {
     "name": "stdout",
     "output_type": "stream",
     "text": [
      "0    0.875346\n",
      "1    0.819945\n",
      "2    0.831025\n",
      "3    0.862881\n",
      "4    0.890582\n",
      "dtype: float64\n",
      "Mean accuracy: 0.8560\n"
     ]
    }
   ],
   "source": [
    "acc_scores = cross_val_score(binary_pipeline, docs, target, cv=5, scoring=\"accuracy\")\n",
    "k_acc_scores = pd.Series(acc_scores)\n",
    "\n",
    "print(k_acc_scores)\n",
    "print(\"Mean accuracy: %.4f\" % k_acc_scores.mean())"
   ]
  },
  {
   "cell_type": "markdown",
   "metadata": {},
   "source": [
    "This was then repeated for the two remaining pairs of news categories:"
   ]
  },
  {
   "cell_type": "markdown",
   "metadata": {},
   "source": [
    "**US-News** and **Sport**"
   ]
  },
  {
   "cell_type": "code",
   "execution_count": 39,
   "metadata": {},
   "outputs": [
    {
     "name": "stdout",
     "output_type": "stream",
     "text": [
      "0    0.910591\n",
      "1    0.896836\n",
      "2    0.881706\n",
      "3    0.935351\n",
      "4    0.913223\n",
      "dtype: float64\n",
      "Mean accuracy: 0.9075\n"
     ]
    }
   ],
   "source": [
    "target, docs = extract_relevant_articles(news_data, 'US-News', 'Sport')\n",
    "\n",
    "acc_scores = cross_val_score(binary_pipeline, docs, target, cv=5, scoring=\"accuracy\")\n",
    "k_acc_scores = pd.Series(acc_scores)\n",
    "\n",
    "print(k_acc_scores)\n",
    "print(\"Mean accuracy: %.4f\" % k_acc_scores.mean())"
   ]
  },
  {
   "cell_type": "markdown",
   "metadata": {},
   "source": [
    "**UK-News** and **Sport**"
   ]
  },
  {
   "cell_type": "code",
   "execution_count": 40,
   "metadata": {},
   "outputs": [
    {
     "name": "stdout",
     "output_type": "stream",
     "text": [
      "0    0.887967\n",
      "1    0.889350\n",
      "2    0.901798\n",
      "3    0.907331\n",
      "4    0.901662\n",
      "dtype: float64\n",
      "Mean accuracy: 0.8976\n"
     ]
    }
   ],
   "source": [
    "target, docs = extract_relevant_articles(news_data, 'UK-News', 'Sport')\n",
    "\n",
    "acc_scores = cross_val_score(binary_pipeline, docs, target, cv=5, scoring=\"accuracy\")\n",
    "k_acc_scores = pd.Series(acc_scores)\n",
    "\n",
    "print(k_acc_scores)\n",
    "print(\"Mean accuracy: %.4f\" % k_acc_scores.mean())"
   ]
  },
  {
   "cell_type": "markdown",
   "metadata": {},
   "source": [
    "It was noticed that the classification model was slightly more accurate for the latter two category pairs. This makes sense as it would be expected that UK and US News articles, while different, would have more in common in terms of language, phrasing and subject matter than Sports news. Simply put, UK and US News articles are more difficult to distinguish for this model than with Sports articles."
   ]
  },
  {
   "cell_type": "markdown",
   "metadata": {},
   "source": [
    "### Task 2: Multi-Class Text Classification"
   ]
  },
  {
   "cell_type": "markdown",
   "metadata": {},
   "source": [
    "For multi-class classification, the preprocessing steps required adjustments in order to accomodate three news categories simultaneously. A function was written to extract all 3 news category articles into document and target lists."
   ]
  },
  {
   "cell_type": "code",
   "execution_count": 41,
   "metadata": {},
   "outputs": [],
   "source": [
    "def extract_multiclass_articles(data, category0, category1, category2):\n",
    "    targets = []\n",
    "    documents = []\n",
    "    for article in data:\n",
    "        if article['Category'] in [category0, category1, category2]:\n",
    "            documents.append(concatentate_strings(article['Title'], article['Snippet']))\n",
    "            targets.append(article['Category'])\n",
    "    return np.array(targets), documents\n",
    "\n",
    "categories, documents = extract_multiclass_articles(news_data, 'UK-News', 'Sport', 'US-News')"
   ]
  },
  {
   "cell_type": "markdown",
   "metadata": {},
   "source": [
    "The articles were split into test and training sets as before, with 20% testing."
   ]
  },
  {
   "cell_type": "code",
   "execution_count": 42,
   "metadata": {},
   "outputs": [],
   "source": [
    "train_docs, test_docs, train_target, test_target = train_test_split(documents, categories, test_size=0.2)"
   ]
  },
  {
   "cell_type": "markdown",
   "metadata": {},
   "source": [
    "As classifying all three article categories at once will result in more points within the coordinate space, a larger value of 5 nearest neighbours was used to categorise the data, with the minimum token occurrence set to 5 documents, as there was likely to be more. The pipeline was used run to create the multi-class classification model, and used to predict the categories of the testing set. The model appeared to be quite effective, with an accuracy around 89-90%:"
   ]
  },
  {
   "cell_type": "code",
   "execution_count": 43,
   "metadata": {},
   "outputs": [
    {
     "name": "stdout",
     "output_type": "stream",
     "text": [
      "Classification accuracy = 0.9033\n"
     ]
    }
   ],
   "source": [
    "multi_class_pipeline = Pipeline([\n",
    "    ('vec', CountVectorizer(min_df=5, tokenizer=lemma_tokenizer)),\n",
    "    ('tfidf', TfidfTransformer()),\n",
    "    ('clf', KNeighborsClassifier(n_neighbors=5))\n",
    "])\n",
    "\n",
    "\n",
    "multi_class_pipeline.fit(train_docs, train_target)\n",
    "predicted = multi_class_pipeline.predict(test_docs)\n",
    "print(\"Classification accuracy = %.4f\" % accuracy_score(test_target, predicted))"
   ]
  },
  {
   "cell_type": "markdown",
   "metadata": {},
   "source": [
    "As shown in the confusion matrix below, the model successfully predicted a majority of the categories."
   ]
  },
  {
   "cell_type": "code",
   "execution_count": 44,
   "metadata": {},
   "outputs": [
    {
     "data": {
      "text/plain": [
       "<sklearn.metrics._plot.confusion_matrix.ConfusionMatrixDisplay at 0x212ee889370>"
      ]
     },
     "execution_count": 44,
     "metadata": {},
     "output_type": "execute_result"
    },
    {
     "data": {
      "image/png": "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\n",
      "text/plain": [
       "<Figure size 432x288 with 2 Axes>"
      ]
     },
     "metadata": {
      "needs_background": "light"
     },
     "output_type": "display_data"
    }
   ],
   "source": [
    "plot_cm(test_target, predicted)"
   ]
  },
  {
   "cell_type": "code",
   "execution_count": 45,
   "metadata": {},
   "outputs": [
    {
     "name": "stdout",
     "output_type": "stream",
     "text": [
      "              precision    recall  f1-score   support\n",
      "\n",
      "     UK-News       0.91      0.94      0.93       352\n",
      "       Sport       0.90      0.88      0.89       387\n",
      "     US-News       0.90      0.88      0.89       347\n",
      "\n",
      "    accuracy                           0.90      1086\n",
      "   macro avg       0.90      0.90      0.90      1086\n",
      "weighted avg       0.90      0.90      0.90      1086\n",
      "\n"
     ]
    }
   ],
   "source": [
    "print(classification_report(test_target, predicted, target_names=['UK-News', 'Sport', 'US-News']))"
   ]
  },
  {
   "cell_type": "markdown",
   "metadata": {},
   "source": [
    "The individual accuracies of the model for predicting each individual category were also computed using the function below:"
   ]
  },
  {
   "cell_type": "code",
   "execution_count": 46,
   "metadata": {},
   "outputs": [
    {
     "data": {
      "text/plain": [
       "{'Sport': 0.9431818181818182,\n",
       " 'UK-News': 0.8837209302325582,\n",
       " 'US-News': 0.8847262247838616}"
      ]
     },
     "execution_count": 46,
     "metadata": {},
     "output_type": "execute_result"
    }
   ],
   "source": [
    "from collections import Counter, OrderedDict\n",
    "\n",
    "def individual_accuracies(test_targets, predicted_data):\n",
    "    cm = confusion_matrix(test_targets, predicted_data)\n",
    "    corrects = np.diag(cm)\n",
    "    totals = np.asarray(list(Counter(test_targets).values()))\n",
    "    accuracies = np.array(corrects) / totals\n",
    "    categories = list(Counter(test_targets).keys())\n",
    "    results = dict(zip(categories, accuracies))\n",
    "    return dict(sorted(results.items()))\n",
    "individual_accuracies(test_target, predicted)"
   ]
  },
  {
   "cell_type": "markdown",
   "metadata": {},
   "source": [
    "As shown above, the accuracy of the model in predicting articles as both UK- and US-News is quite a bit lower than for the sport category. In order to determine if this was a consistent feature, the process was repeated five times, with different training and test allocations."
   ]
  },
  {
   "cell_type": "code",
   "execution_count": 47,
   "metadata": {},
   "outputs": [
    {
     "name": "stdout",
     "output_type": "stream",
     "text": [
      "{'Sport': 0.8413597733711048, 'UK-News': 0.8363171355498721, 'US-News': 0.9824561403508771}\n",
      "{'Sport': 0.7962962962962963, 'UK-News': 0.9559228650137741, 'US-News': 0.9043478260869565}\n",
      "{'Sport': 0.8756906077348067, 'UK-News': 0.9418282548476454, 'US-News': 0.859504132231405}\n",
      "{'Sport': 0.9032258064516129, 'UK-News': 0.8715083798882681, 'US-News': 0.8876404494382022}\n",
      "{'Sport': 0.8415300546448088, 'UK-News': 0.8870056497175142, 'US-News': 0.9262295081967213}\n"
     ]
    }
   ],
   "source": [
    "for i in range(5):\n",
    "    train_docs, test_docs, train_target, test_target = train_test_split(documents, categories, test_size=0.2)\n",
    "    \n",
    "    multi_class_pipeline.fit(train_docs, train_target)\n",
    "    predicted = multi_class_pipeline.predict(test_docs)\n",
    "    accuracies = individual_accuracies(test_target, predicted)\n",
    "    print(accuracies)"
   ]
  },
  {
   "cell_type": "markdown",
   "metadata": {},
   "source": [
    "Clearly these accuracies fluctuate randomly depending on the training and test sets chosen, and so the lower accuracy of UK/US-News identification is not inherent to the model."
   ]
  },
  {
   "cell_type": "markdown",
   "metadata": {},
   "source": [
    "Finally, Cross Validation was run on the model, with a total accuracy of approximately 85% found."
   ]
  },
  {
   "cell_type": "code",
   "execution_count": 48,
   "metadata": {},
   "outputs": [
    {
     "name": "stdout",
     "output_type": "stream",
     "text": [
      "0    0.872007\n",
      "1    0.825046\n",
      "2    0.846225\n",
      "3    0.860958\n",
      "4    0.870968\n",
      "dtype: float64\n",
      "Mean accuracy: 0.8550\n"
     ]
    }
   ],
   "source": [
    "acc_scores = cross_val_score(multi_class_pipeline, documents, categories, cv=5, scoring=\"accuracy\")\n",
    "k_acc_scores = pd.Series(acc_scores)\n",
    "\n",
    "print(k_acc_scores)\n",
    "print(\"Mean accuracy: %.4f\" % k_acc_scores.mean())"
   ]
  }
 ],
 "metadata": {
  "kernelspec": {
   "display_name": "Python 3",
   "language": "python",
   "name": "python3"
  },
  "language_info": {
   "codemirror_mode": {
    "name": "ipython",
    "version": 3
   },
   "file_extension": ".py",
   "mimetype": "text/x-python",
   "name": "python",
   "nbconvert_exporter": "python",
   "pygments_lexer": "ipython3",
   "version": "3.8.8"
  }
 },
 "nbformat": 4,
 "nbformat_minor": 2
}
